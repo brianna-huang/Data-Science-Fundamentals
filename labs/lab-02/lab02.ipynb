{
 "cells": [
  {
   "attachments": {},
   "cell_type": "markdown",
   "metadata": {},
   "source": [
    "## Lab 02 - Pandas and Data Visualization\n",
    "This notebook will introduce you to the basics of Pandas and Data Visualization. You will learn how to load data into a Pandas DataFrame, how to perform basic data analysis, and how to visualize data. The first part of this notebook will be an interactive tutorial, and the second part will be practice exercises for you to do! **Note that the practice problems will be checked when submitted!**"
   ]
  },
  {
   "cell_type": "markdown",
   "metadata": {},
   "source": [
    "#### Pandas\n",
    "Pandas is a popular open-source Python library that provides data structures and data analysis tools for working with structured data. Pandas is a versatile library that simplifies data manipulation, analysis, and exploration in Python. Some of its uses:\n",
    "* Tabular Data Handling\n",
    "* Data Cleaning and Transformation\n",
    "* Data Exploration\n",
    "* Data Import/Export\n",
    "* Data Visualization\n",
    "\n",
    "#### Matplotlib\n",
    "Matplotlib is a widely used for creating static, animated, and interactive visualizations. Whether you are conducting data analysis, scientific research, or data communication, Matplotlib helps you present your findings effectively and intuitively."
   ]
  },
  {
   "attachments": {},
   "cell_type": "markdown",
   "metadata": {},
   "source": [
    "### Pre-requisites"
   ]
  },
  {
   "cell_type": "code",
   "execution_count": 68,
   "metadata": {},
   "outputs": [
    {
     "name": "stdout",
     "output_type": "stream",
     "text": [
      "Requirement already satisfied: pandas in /Users/briannahuang/opt/anaconda3/lib/python3.8/site-packages (1.2.4)\n",
      "Requirement already satisfied: python-dateutil>=2.7.3 in /Users/briannahuang/opt/anaconda3/lib/python3.8/site-packages (from pandas) (2.8.1)\n",
      "Requirement already satisfied: pytz>=2017.3 in /Users/briannahuang/opt/anaconda3/lib/python3.8/site-packages (from pandas) (2021.1)\n",
      "Requirement already satisfied: numpy>=1.16.5 in /Users/briannahuang/opt/anaconda3/lib/python3.8/site-packages (from pandas) (1.20.1)\n",
      "Requirement already satisfied: six>=1.5 in /Users/briannahuang/opt/anaconda3/lib/python3.8/site-packages (from python-dateutil>=2.7.3->pandas) (1.15.0)\n",
      "\u001b[33mDEPRECATION: pyodbc 4.0.0-unsupported has a non-standard version number. pip 23.3 will enforce this behaviour change. A possible replacement is to upgrade to a newer version of pyodbc or contact the author to suggest that they release a version with a conforming version number. Discussion can be found at https://github.com/pypa/pip/issues/12063\u001b[0m\u001b[33m\n",
      "\u001b[0mNote: you may need to restart the kernel to use updated packages.\n"
     ]
    }
   ],
   "source": [
    "# In case you don't have pandas, uncomment\n",
    "# the following lines and run the cell\n",
    "\n",
    "%pip install pandas"
   ]
  },
  {
   "attachments": {},
   "cell_type": "markdown",
   "metadata": {},
   "source": [
    "### Overview\n",
    "In this notebook, you will be learning how to use the Pandas library by working with the `cookies.csv` file. \n",
    "\n",
    "#### `cookies.csv` file :\n",
    "\n",
    "The `cookies.csv` file contains information about cookies that were made in Rico's Bisquito's factory. \n",
    "\n",
    "The columns are the following:\n",
    "\n",
    "`cookie`: the name of a cookie\n",
    "`ingredients`: a list of the cookie's ingredients\n",
    "`calories`: the number of calories the created cookie has\n",
    "`radius`: the radius of the created cookie, in cm\n",
    "`cost_to_make`: the cost it took to make the created cookie, in dollars"
   ]
  },
  {
   "attachments": {},
   "cell_type": "markdown",
   "metadata": {},
   "source": [
    "### Reading the CSV file\n",
    "\n",
    "First, we need to import the Pandas library. We will be using the `pd` alias for the Pandas library."
   ]
  },
  {
   "cell_type": "code",
   "execution_count": 69,
   "metadata": {},
   "outputs": [],
   "source": [
    "#TODO: import pandas and matplotlib in this cell\n",
    "import pandas as pd\n",
    "# import matplotlib"
   ]
  },
  {
   "attachments": {},
   "cell_type": "markdown",
   "metadata": {},
   "source": [
    "We will now look at the `cookies.csv` file. We will use the `pd.read_csv()` function to read in the CSV file. We will store the data in a variable called `cookies`."
   ]
  },
  {
   "cell_type": "code",
   "execution_count": 70,
   "metadata": {},
   "outputs": [],
   "source": [
    "#TODO: read the cookies.csv file into a pandas dataframe\n",
    "\n",
    "cookies = pd.read_csv('cookies.csv')"
   ]
  },
  {
   "attachments": {},
   "cell_type": "markdown",
   "metadata": {},
   "source": [
    "#### Dataframe\n",
    "Dataframes are a data structure that Pandas uses to store data. Dataframes are similar to tables in a database. Dataframes have rows and columns. Each row represents a single data point, and each column represents a feature of the data point."
   ]
  },
  {
   "attachments": {},
   "cell_type": "markdown",
   "metadata": {},
   "source": [
    "We will then make sure we imported the data correctly by printing out the first 10 rows of the data, using the `head()` function."
   ]
  },
  {
   "cell_type": "code",
   "execution_count": 71,
   "metadata": {},
   "outputs": [
    {
     "name": "stdout",
     "output_type": "stream",
     "text": [
      "            cookie                                        ingredients  \\\n",
      "0     laddoo lemon             [\"flour\",\"lemon juice\",\"sugar\",\"ghee\"]   \n",
      "1  red velvet rauw  [\"flour\",\"cocoa powder\",\"butter\",\"red food col...   \n",
      "2         nevadito  [\"flour\",\"chocolate chips\",\"milk\",\"vanilla ext...   \n",
      "3  red velvet rauw  [\"flour\",\"cocoa powder\",\"butter\",\"red food col...   \n",
      "4  bad berry bunny           [\"flour\",\"blueberries\",\"sugar\",\"butter\"]   \n",
      "5     orange ozuna   [\"flour\",\"orange juice\",\"sugar\",\"vegetable oil\"]   \n",
      "6      minty miami          [\"flour\",\"mint extract\",\"sugar\",\"butter\"]   \n",
      "7        chocolate       [\"flour\",\"chocolate chips\",\"sugar\",\"butter\"]   \n",
      "8     laddoo lemon             [\"flour\",\"lemon juice\",\"sugar\",\"ghee\"]   \n",
      "9      minty miami          [\"flour\",\"mint extract\",\"sugar\",\"butter\"]   \n",
      "\n",
      "   calories  radius  cost_to_make  \n",
      "0       170   3.102          0.67  \n",
      "1       198   3.780          1.07  \n",
      "2       224   4.069          1.04  \n",
      "3       198   3.780          1.07  \n",
      "4       191   4.148          1.39  \n",
      "5       162   3.241          1.15  \n",
      "6       204   3.964          0.84  \n",
      "7       243   3.684          1.17  \n",
      "8       178   3.989           NaN  \n",
      "9       184   3.743          0.74  \n"
     ]
    }
   ],
   "source": [
    "#TODO: print the head of the dataframe\n",
    "\n",
    "print(cookies.head(10))"
   ]
  },
  {
   "attachments": {},
   "cell_type": "markdown",
   "metadata": {},
   "source": [
    "### Checking data types\n",
    "You can check the data types of each column using the `dtypes` attribute of the DataFrame."
   ]
  },
  {
   "cell_type": "code",
   "execution_count": 72,
   "metadata": {},
   "outputs": [
    {
     "name": "stdout",
     "output_type": "stream",
     "text": [
      "cookie           object\n",
      "ingredients      object\n",
      "calories          int64\n",
      "radius          float64\n",
      "cost_to_make    float64\n",
      "dtype: object\n"
     ]
    }
   ],
   "source": [
    "#TODO: check the data types of the columns\n",
    "\n",
    "print(cookies.dtypes)"
   ]
  },
  {
   "cell_type": "markdown",
   "metadata": {},
   "source": [
    "Now, lets use use `info()` function to get more information about the Dataframe"
   ]
  },
  {
   "cell_type": "code",
   "execution_count": 73,
   "metadata": {},
   "outputs": [
    {
     "name": "stdout",
     "output_type": "stream",
     "text": [
      "<class 'pandas.core.frame.DataFrame'>\n",
      "RangeIndex: 129 entries, 0 to 128\n",
      "Data columns (total 5 columns):\n",
      " #   Column        Non-Null Count  Dtype  \n",
      "---  ------        --------------  -----  \n",
      " 0   cookie        129 non-null    object \n",
      " 1   ingredients   129 non-null    object \n",
      " 2   calories      129 non-null    int64  \n",
      " 3   radius        129 non-null    float64\n",
      " 4   cost_to_make  114 non-null    float64\n",
      "dtypes: float64(2), int64(1), object(2)\n",
      "memory usage: 5.2+ KB\n",
      "None\n"
     ]
    }
   ],
   "source": [
    "# TODO: use info() to get information about datatypes and null values\n",
    "\n",
    "print(cookies.info())"
   ]
  },
  {
   "attachments": {},
   "cell_type": "markdown",
   "metadata": {},
   "source": [
    "### Cleaning the data\n",
    "Now that we have the data, we need to clean it. For example, some `cost_to_make` fields of some created cookies are missing. To resolve this, we can do many things: we can replace the missing data with the mean of the column, or we can get rid of the row entirely if the `cost_to_make` field is not set. "
   ]
  },
  {
   "cell_type": "code",
   "execution_count": 74,
   "metadata": {},
   "outputs": [
    {
     "name": "stdout",
     "output_type": "stream",
     "text": [
      "             cookie                                        ingredients  \\\n",
      "0      laddoo lemon             [\"flour\",\"lemon juice\",\"sugar\",\"ghee\"]   \n",
      "1   red velvet rauw  [\"flour\",\"cocoa powder\",\"butter\",\"red food col...   \n",
      "2          nevadito  [\"flour\",\"chocolate chips\",\"milk\",\"vanilla ext...   \n",
      "3   red velvet rauw  [\"flour\",\"cocoa powder\",\"butter\",\"red food col...   \n",
      "4   bad berry bunny           [\"flour\",\"blueberries\",\"sugar\",\"butter\"]   \n",
      "5      orange ozuna   [\"flour\",\"orange juice\",\"sugar\",\"vegetable oil\"]   \n",
      "6       minty miami          [\"flour\",\"mint extract\",\"sugar\",\"butter\"]   \n",
      "7         chocolate       [\"flour\",\"chocolate chips\",\"sugar\",\"butter\"]   \n",
      "9       minty miami          [\"flour\",\"mint extract\",\"sugar\",\"butter\"]   \n",
      "10         nevadito  [\"flour\",\"chocolate chips\",\"milk\",\"vanilla ext...   \n",
      "\n",
      "    calories  radius  cost_to_make  \n",
      "0        170   3.102          0.67  \n",
      "1        198   3.780          1.07  \n",
      "2        224   4.069          1.04  \n",
      "3        198   3.780          1.07  \n",
      "4        191   4.148          1.39  \n",
      "5        162   3.241          1.15  \n",
      "6        204   3.964          0.84  \n",
      "7        243   3.684          1.17  \n",
      "9        184   3.743          0.74  \n",
      "10       216   3.848          1.28  \n"
     ]
    }
   ],
   "source": [
    "#TODO: clean the dataframe and \n",
    "# print the head again to make sure \n",
    "# the changes took effect\n",
    "\n",
    "cookies.dropna(subset = ['cost_to_make'], inplace=True)\n",
    "print(cookies.head(10))\n"
   ]
  },
  {
   "attachments": {},
   "cell_type": "markdown",
   "metadata": {},
   "source": [
    "To also make sure we removed null values, we can check the number of null values in each column using the `isnull()` function."
   ]
  },
  {
   "cell_type": "code",
   "execution_count": 75,
   "metadata": {},
   "outputs": [
    {
     "name": "stdout",
     "output_type": "stream",
     "text": [
      "0\n",
      "0\n",
      "0\n",
      "0\n"
     ]
    }
   ],
   "source": [
    "#TODO: use the isnull method to make sure your data is clean\n",
    "\n",
    "print(cookies['ingredients'].isnull().sum())\n",
    "print(cookies['calories'].isnull().sum())\n",
    "print(cookies['radius'].isnull().sum())\n",
    "print(cookies['cost_to_make'].isnull().sum())"
   ]
  },
  {
   "cell_type": "markdown",
   "metadata": {},
   "source": [
    "Next, lets check for duplicate rows using the `duplicated()` function. Then, remove those rows using `drop_duplicates()` function."
   ]
  },
  {
   "cell_type": "code",
   "execution_count": 76,
   "metadata": {},
   "outputs": [
    {
     "data": {
      "text/html": [
       "<div>\n",
       "<style scoped>\n",
       "    .dataframe tbody tr th:only-of-type {\n",
       "        vertical-align: middle;\n",
       "    }\n",
       "\n",
       "    .dataframe tbody tr th {\n",
       "        vertical-align: top;\n",
       "    }\n",
       "\n",
       "    .dataframe thead th {\n",
       "        text-align: right;\n",
       "    }\n",
       "</style>\n",
       "<table border=\"1\" class=\"dataframe\">\n",
       "  <thead>\n",
       "    <tr style=\"text-align: right;\">\n",
       "      <th></th>\n",
       "      <th>cookie</th>\n",
       "      <th>ingredients</th>\n",
       "      <th>calories</th>\n",
       "      <th>radius</th>\n",
       "      <th>cost_to_make</th>\n",
       "    </tr>\n",
       "  </thead>\n",
       "  <tbody>\n",
       "    <tr>\n",
       "      <th>0</th>\n",
       "      <td>laddoo lemon</td>\n",
       "      <td>[\"flour\",\"lemon juice\",\"sugar\",\"ghee\"]</td>\n",
       "      <td>170</td>\n",
       "      <td>3.102</td>\n",
       "      <td>0.67</td>\n",
       "    </tr>\n",
       "    <tr>\n",
       "      <th>1</th>\n",
       "      <td>red velvet rauw</td>\n",
       "      <td>[\"flour\",\"cocoa powder\",\"butter\",\"red food col...</td>\n",
       "      <td>198</td>\n",
       "      <td>3.780</td>\n",
       "      <td>1.07</td>\n",
       "    </tr>\n",
       "    <tr>\n",
       "      <th>2</th>\n",
       "      <td>nevadito</td>\n",
       "      <td>[\"flour\",\"chocolate chips\",\"milk\",\"vanilla ext...</td>\n",
       "      <td>224</td>\n",
       "      <td>4.069</td>\n",
       "      <td>1.04</td>\n",
       "    </tr>\n",
       "    <tr>\n",
       "      <th>4</th>\n",
       "      <td>bad berry bunny</td>\n",
       "      <td>[\"flour\",\"blueberries\",\"sugar\",\"butter\"]</td>\n",
       "      <td>191</td>\n",
       "      <td>4.148</td>\n",
       "      <td>1.39</td>\n",
       "    </tr>\n",
       "    <tr>\n",
       "      <th>5</th>\n",
       "      <td>orange ozuna</td>\n",
       "      <td>[\"flour\",\"orange juice\",\"sugar\",\"vegetable oil\"]</td>\n",
       "      <td>162</td>\n",
       "      <td>3.241</td>\n",
       "      <td>1.15</td>\n",
       "    </tr>\n",
       "    <tr>\n",
       "      <th>...</th>\n",
       "      <td>...</td>\n",
       "      <td>...</td>\n",
       "      <td>...</td>\n",
       "      <td>...</td>\n",
       "      <td>...</td>\n",
       "    </tr>\n",
       "    <tr>\n",
       "      <th>121</th>\n",
       "      <td>chocolate</td>\n",
       "      <td>[\"flour\",\"chocolate chips\",\"sugar\",\"butter\"]</td>\n",
       "      <td>227</td>\n",
       "      <td>4.085</td>\n",
       "      <td>1.42</td>\n",
       "    </tr>\n",
       "    <tr>\n",
       "      <th>122</th>\n",
       "      <td>laddoo lemon</td>\n",
       "      <td>[\"flour\",\"lemon juice\",\"sugar\",\"ghee\"]</td>\n",
       "      <td>170</td>\n",
       "      <td>3.916</td>\n",
       "      <td>2.00</td>\n",
       "    </tr>\n",
       "    <tr>\n",
       "      <th>125</th>\n",
       "      <td>nevadito</td>\n",
       "      <td>[\"flour\",\"chocolate chips\",\"milk\",\"vanilla ext...</td>\n",
       "      <td>211</td>\n",
       "      <td>3.915</td>\n",
       "      <td>1.61</td>\n",
       "    </tr>\n",
       "    <tr>\n",
       "      <th>126</th>\n",
       "      <td>red velvet rauw</td>\n",
       "      <td>[\"flour\",\"cocoa powder\",\"butter\",\"red food col...</td>\n",
       "      <td>197</td>\n",
       "      <td>3.906</td>\n",
       "      <td>1.33</td>\n",
       "    </tr>\n",
       "    <tr>\n",
       "      <th>127</th>\n",
       "      <td>bad berry bunny</td>\n",
       "      <td>[\"flour\",\"blueberries\",\"sugar\",\"butter\"]</td>\n",
       "      <td>199</td>\n",
       "      <td>4.281</td>\n",
       "      <td>1.36</td>\n",
       "    </tr>\n",
       "  </tbody>\n",
       "</table>\n",
       "<p>103 rows × 5 columns</p>\n",
       "</div>"
      ],
      "text/plain": [
       "              cookie                                        ingredients  \\\n",
       "0       laddoo lemon             [\"flour\",\"lemon juice\",\"sugar\",\"ghee\"]   \n",
       "1    red velvet rauw  [\"flour\",\"cocoa powder\",\"butter\",\"red food col...   \n",
       "2           nevadito  [\"flour\",\"chocolate chips\",\"milk\",\"vanilla ext...   \n",
       "4    bad berry bunny           [\"flour\",\"blueberries\",\"sugar\",\"butter\"]   \n",
       "5       orange ozuna   [\"flour\",\"orange juice\",\"sugar\",\"vegetable oil\"]   \n",
       "..               ...                                                ...   \n",
       "121        chocolate       [\"flour\",\"chocolate chips\",\"sugar\",\"butter\"]   \n",
       "122     laddoo lemon             [\"flour\",\"lemon juice\",\"sugar\",\"ghee\"]   \n",
       "125         nevadito  [\"flour\",\"chocolate chips\",\"milk\",\"vanilla ext...   \n",
       "126  red velvet rauw  [\"flour\",\"cocoa powder\",\"butter\",\"red food col...   \n",
       "127  bad berry bunny           [\"flour\",\"blueberries\",\"sugar\",\"butter\"]   \n",
       "\n",
       "     calories  radius  cost_to_make  \n",
       "0         170   3.102          0.67  \n",
       "1         198   3.780          1.07  \n",
       "2         224   4.069          1.04  \n",
       "4         191   4.148          1.39  \n",
       "5         162   3.241          1.15  \n",
       "..        ...     ...           ...  \n",
       "121       227   4.085          1.42  \n",
       "122       170   3.916          2.00  \n",
       "125       211   3.915          1.61  \n",
       "126       197   3.906          1.33  \n",
       "127       199   4.281          1.36  \n",
       "\n",
       "[103 rows x 5 columns]"
      ]
     },
     "execution_count": 76,
     "metadata": {},
     "output_type": "execute_result"
    }
   ],
   "source": [
    "# TODO: check for duplicate rows\n",
    "# then delete those rows form df\n",
    "\n",
    "cookies.duplicated()\n",
    "cookies.drop_duplicates()"
   ]
  },
  {
   "attachments": {},
   "cell_type": "markdown",
   "metadata": {},
   "source": [
    "### Parsing the data\n",
    "Now that we have the data, we could parse it to get the information we want. For example, we can check what types of cookies were made by using the `unique()` function on the `cookie` column."
   ]
  },
  {
   "cell_type": "code",
   "execution_count": 77,
   "metadata": {},
   "outputs": [
    {
     "data": {
      "text/plain": [
       "array(['laddoo lemon', 'red velvet rauw', 'nevadito', 'bad berry bunny',\n",
       "       'orange ozuna', 'minty miami', 'chocolate'], dtype=object)"
      ]
     },
     "execution_count": 77,
     "metadata": {},
     "output_type": "execute_result"
    }
   ],
   "source": [
    "#TODO: see what cookies are in the dataset\n",
    "\n",
    "cookies['cookie'].unique()"
   ]
  },
  {
   "attachments": {},
   "cell_type": "markdown",
   "metadata": {},
   "source": [
    "We can also check the number of cookies made by using the `value_counts()` function on the `cookie` column."
   ]
  },
  {
   "cell_type": "code",
   "execution_count": 78,
   "metadata": {},
   "outputs": [
    {
     "data": {
      "text/plain": [
       "red velvet rauw    20\n",
       "minty miami        19\n",
       "orange ozuna       19\n",
       "nevadito           15\n",
       "bad berry bunny    15\n",
       "chocolate          13\n",
       "laddoo lemon       13\n",
       "Name: cookie, dtype: int64"
      ]
     },
     "execution_count": 78,
     "metadata": {},
     "output_type": "execute_result"
    }
   ],
   "source": [
    "#TODO: use value_counts() to see how many \n",
    "# cookies of each type there are\n",
    "\n",
    "cookies['cookie'].value_counts()"
   ]
  },
  {
   "attachments": {},
   "cell_type": "markdown",
   "metadata": {},
   "source": [
    "Or maybe we don't like how long the names of the cookies are, so we can shorten them by using the `replace()` function on the `cookie` column.\n",
    "\n",
    "For example, let's try changing `\"bad berry bunny\"` to `\"bbb\"`."
   ]
  },
  {
   "cell_type": "code",
   "execution_count": 79,
   "metadata": {},
   "outputs": [
    {
     "name": "stdout",
     "output_type": "stream",
     "text": [
      "             cookie                                        ingredients  \\\n",
      "0      laddoo lemon             [\"flour\",\"lemon juice\",\"sugar\",\"ghee\"]   \n",
      "1   red velvet rauw  [\"flour\",\"cocoa powder\",\"butter\",\"red food col...   \n",
      "2          nevadito  [\"flour\",\"chocolate chips\",\"milk\",\"vanilla ext...   \n",
      "3   red velvet rauw  [\"flour\",\"cocoa powder\",\"butter\",\"red food col...   \n",
      "4               bbb           [\"flour\",\"blueberries\",\"sugar\",\"butter\"]   \n",
      "5      orange ozuna   [\"flour\",\"orange juice\",\"sugar\",\"vegetable oil\"]   \n",
      "6       minty miami          [\"flour\",\"mint extract\",\"sugar\",\"butter\"]   \n",
      "7         chocolate       [\"flour\",\"chocolate chips\",\"sugar\",\"butter\"]   \n",
      "9       minty miami          [\"flour\",\"mint extract\",\"sugar\",\"butter\"]   \n",
      "10         nevadito  [\"flour\",\"chocolate chips\",\"milk\",\"vanilla ext...   \n",
      "\n",
      "    calories  radius  cost_to_make  \n",
      "0        170   3.102          0.67  \n",
      "1        198   3.780          1.07  \n",
      "2        224   4.069          1.04  \n",
      "3        198   3.780          1.07  \n",
      "4        191   4.148          1.39  \n",
      "5        162   3.241          1.15  \n",
      "6        204   3.964          0.84  \n",
      "7        243   3.684          1.17  \n",
      "9        184   3.743          0.74  \n",
      "10       216   3.848          1.28  \n"
     ]
    }
   ],
   "source": [
    "#TODO: change bad berry bunny data elements to \"bbb\"\n",
    "\n",
    "cookies['cookie'] = cookies['cookie'].replace(\"bad berry bunny\", \"bbb\")\n",
    "print(cookies.head(10))"
   ]
  },
  {
   "attachments": {},
   "cell_type": "markdown",
   "metadata": {},
   "source": [
    "We may even like the original names better, but we may want to get rid of the spaces. For example, we can change `\"orange ozuna\"` to `\"orange_ozuna\"`. Here, we will use the `str.replace()` function."
   ]
  },
  {
   "cell_type": "code",
   "execution_count": 80,
   "metadata": {},
   "outputs": [
    {
     "name": "stdout",
     "output_type": "stream",
     "text": [
      "0        laddoo_lemon\n",
      "1     red_velvet_rauw\n",
      "2            nevadito\n",
      "3     red_velvet_rauw\n",
      "4                 bbb\n",
      "5        orange_ozuna\n",
      "6         minty_miami\n",
      "7           chocolate\n",
      "9         minty_miami\n",
      "10           nevadito\n",
      "Name: cookie, dtype: object\n"
     ]
    }
   ],
   "source": [
    "#TODO: adjust orange ozuna as described\n",
    "\n",
    "cookies['cookie'] = cookies['cookie'].str.replace(' ', '_')\n",
    "print(cookies.head(10)['cookie'])"
   ]
  },
  {
   "attachments": {},
   "cell_type": "markdown",
   "metadata": {},
   "source": [
    "We may even just want to keep the first word of the cookie name. For example, we can change `\"orange_ozuna\"` to `\"orange\"`."
   ]
  },
  {
   "cell_type": "code",
   "execution_count": 81,
   "metadata": {},
   "outputs": [],
   "source": [
    "#TODO: adjust all cookies so only the first word\n",
    "# is used as the cookie name\n",
    "\n",
    "cookies['cookie'] = cookies['cookie'].str.split('_').str[0]"
   ]
  },
  {
   "attachments": {},
   "cell_type": "markdown",
   "metadata": {},
   "source": [
    "Another thing that may come to mind is that maybe getting flour could cost more money due to inflation, so we have to adjust our `cost_to_make` values. We can do this by using the `apply()` function on the `cost_to_make` column."
   ]
  },
  {
   "cell_type": "code",
   "execution_count": 82,
   "metadata": {},
   "outputs": [
    {
     "data": {
      "text/plain": [
       "0      1.17\n",
       "1      1.57\n",
       "2      1.54\n",
       "3      1.57\n",
       "4      1.89\n",
       "       ... \n",
       "124    1.34\n",
       "125    2.11\n",
       "126    1.83\n",
       "127    1.86\n",
       "128    2.03\n",
       "Name: cost_to_make, Length: 114, dtype: float64"
      ]
     },
     "execution_count": 82,
     "metadata": {},
     "output_type": "execute_result"
    }
   ],
   "source": [
    "#Don't edit this method\n",
    "def adjust_cost(cost):\n",
    "    return cost + 0.5\n",
    "\n",
    "#TODO: use apply() to adjust the cost_to_make column.\n",
    "# cookies['cost_to_make']\n",
    "cookies['cost_to_make'].apply(adjust_cost)"
   ]
  },
  {
   "attachments": {},
   "cell_type": "markdown",
   "metadata": {},
   "source": [
    "And we can do a lot more things! We will see these concepts be used in the next homework assignment, along with a couple new ones to show you how powerful Pandas is."
   ]
  },
  {
   "attachments": {},
   "cell_type": "markdown",
   "metadata": {},
   "source": [
    "### More complicated operations: Grouping, Filtering, Aggregating"
   ]
  },
  {
   "cell_type": "markdown",
   "metadata": {},
   "source": [
    "Before trying out these complicated operations, lets first sort the sort the df by the radius of the cookies using the `sort_values()` function."
   ]
  },
  {
   "cell_type": "code",
   "execution_count": 83,
   "metadata": {},
   "outputs": [
    {
     "data": {
      "text/html": [
       "<div>\n",
       "<style scoped>\n",
       "    .dataframe tbody tr th:only-of-type {\n",
       "        vertical-align: middle;\n",
       "    }\n",
       "\n",
       "    .dataframe tbody tr th {\n",
       "        vertical-align: top;\n",
       "    }\n",
       "\n",
       "    .dataframe thead th {\n",
       "        text-align: right;\n",
       "    }\n",
       "</style>\n",
       "<table border=\"1\" class=\"dataframe\">\n",
       "  <thead>\n",
       "    <tr style=\"text-align: right;\">\n",
       "      <th></th>\n",
       "      <th>cookie</th>\n",
       "      <th>ingredients</th>\n",
       "      <th>calories</th>\n",
       "      <th>radius</th>\n",
       "      <th>cost_to_make</th>\n",
       "    </tr>\n",
       "  </thead>\n",
       "  <tbody>\n",
       "    <tr>\n",
       "      <th>110</th>\n",
       "      <td>red</td>\n",
       "      <td>[\"flour\",\"cocoa powder\",\"butter\",\"red food col...</td>\n",
       "      <td>198</td>\n",
       "      <td>4.930</td>\n",
       "      <td>1.05</td>\n",
       "    </tr>\n",
       "    <tr>\n",
       "      <th>30</th>\n",
       "      <td>red</td>\n",
       "      <td>[\"flour\",\"cocoa powder\",\"butter\",\"red food col...</td>\n",
       "      <td>204</td>\n",
       "      <td>4.667</td>\n",
       "      <td>1.40</td>\n",
       "    </tr>\n",
       "    <tr>\n",
       "      <th>60</th>\n",
       "      <td>orange</td>\n",
       "      <td>[\"flour\",\"orange juice\",\"sugar\",\"vegetable oil\"]</td>\n",
       "      <td>186</td>\n",
       "      <td>4.573</td>\n",
       "      <td>1.06</td>\n",
       "    </tr>\n",
       "    <tr>\n",
       "      <th>49</th>\n",
       "      <td>laddoo</td>\n",
       "      <td>[\"flour\",\"lemon juice\",\"sugar\",\"ghee\"]</td>\n",
       "      <td>195</td>\n",
       "      <td>4.562</td>\n",
       "      <td>0.62</td>\n",
       "    </tr>\n",
       "    <tr>\n",
       "      <th>101</th>\n",
       "      <td>laddoo</td>\n",
       "      <td>[\"flour\",\"lemon juice\",\"sugar\",\"ghee\"]</td>\n",
       "      <td>178</td>\n",
       "      <td>4.519</td>\n",
       "      <td>1.41</td>\n",
       "    </tr>\n",
       "    <tr>\n",
       "      <th>...</th>\n",
       "      <td>...</td>\n",
       "      <td>...</td>\n",
       "      <td>...</td>\n",
       "      <td>...</td>\n",
       "      <td>...</td>\n",
       "    </tr>\n",
       "    <tr>\n",
       "      <th>93</th>\n",
       "      <td>minty</td>\n",
       "      <td>[\"flour\",\"mint extract\",\"sugar\",\"butter\"]</td>\n",
       "      <td>198</td>\n",
       "      <td>3.128</td>\n",
       "      <td>0.59</td>\n",
       "    </tr>\n",
       "    <tr>\n",
       "      <th>0</th>\n",
       "      <td>laddoo</td>\n",
       "      <td>[\"flour\",\"lemon juice\",\"sugar\",\"ghee\"]</td>\n",
       "      <td>170</td>\n",
       "      <td>3.102</td>\n",
       "      <td>0.67</td>\n",
       "    </tr>\n",
       "    <tr>\n",
       "      <th>22</th>\n",
       "      <td>bbb</td>\n",
       "      <td>[\"flour\",\"blueberries\",\"sugar\",\"butter\"]</td>\n",
       "      <td>184</td>\n",
       "      <td>2.982</td>\n",
       "      <td>2.01</td>\n",
       "    </tr>\n",
       "    <tr>\n",
       "      <th>32</th>\n",
       "      <td>minty</td>\n",
       "      <td>[\"flour\",\"mint extract\",\"sugar\",\"butter\"]</td>\n",
       "      <td>178</td>\n",
       "      <td>2.952</td>\n",
       "      <td>0.84</td>\n",
       "    </tr>\n",
       "    <tr>\n",
       "      <th>78</th>\n",
       "      <td>orange</td>\n",
       "      <td>[\"flour\",\"orange juice\",\"sugar\",\"vegetable oil\"]</td>\n",
       "      <td>166</td>\n",
       "      <td>1.695</td>\n",
       "      <td>0.82</td>\n",
       "    </tr>\n",
       "  </tbody>\n",
       "</table>\n",
       "<p>114 rows × 5 columns</p>\n",
       "</div>"
      ],
      "text/plain": [
       "     cookie                                        ingredients  calories  \\\n",
       "110     red  [\"flour\",\"cocoa powder\",\"butter\",\"red food col...       198   \n",
       "30      red  [\"flour\",\"cocoa powder\",\"butter\",\"red food col...       204   \n",
       "60   orange   [\"flour\",\"orange juice\",\"sugar\",\"vegetable oil\"]       186   \n",
       "49   laddoo             [\"flour\",\"lemon juice\",\"sugar\",\"ghee\"]       195   \n",
       "101  laddoo             [\"flour\",\"lemon juice\",\"sugar\",\"ghee\"]       178   \n",
       "..      ...                                                ...       ...   \n",
       "93    minty          [\"flour\",\"mint extract\",\"sugar\",\"butter\"]       198   \n",
       "0    laddoo             [\"flour\",\"lemon juice\",\"sugar\",\"ghee\"]       170   \n",
       "22      bbb           [\"flour\",\"blueberries\",\"sugar\",\"butter\"]       184   \n",
       "32    minty          [\"flour\",\"mint extract\",\"sugar\",\"butter\"]       178   \n",
       "78   orange   [\"flour\",\"orange juice\",\"sugar\",\"vegetable oil\"]       166   \n",
       "\n",
       "     radius  cost_to_make  \n",
       "110   4.930          1.05  \n",
       "30    4.667          1.40  \n",
       "60    4.573          1.06  \n",
       "49    4.562          0.62  \n",
       "101   4.519          1.41  \n",
       "..      ...           ...  \n",
       "93    3.128          0.59  \n",
       "0     3.102          0.67  \n",
       "22    2.982          2.01  \n",
       "32    2.952          0.84  \n",
       "78    1.695          0.82  \n",
       "\n",
       "[114 rows x 5 columns]"
      ]
     },
     "execution_count": 83,
     "metadata": {},
     "output_type": "execute_result"
    }
   ],
   "source": [
    "# TODO: sort the df using sort_values(by='Column', ascending=False)\n",
    "\n",
    "cookies.sort_values(by='radius', ascending = False)"
   ]
  },
  {
   "attachments": {},
   "cell_type": "markdown",
   "metadata": {},
   "source": [
    "We may also want to group data by certain attributes. This can be done by using `groupby()`. This method takes in a column name, and groups the data by the values in that column. For example, we can group the data by the `cookie` column."
   ]
  },
  {
   "cell_type": "code",
   "execution_count": 84,
   "metadata": {},
   "outputs": [
    {
     "name": "stdout",
     "output_type": "stream",
     "text": [
      "bbb     cookie                               ingredients  calories  radius  \\\n",
      "4      bbb  [\"flour\",\"blueberries\",\"sugar\",\"butter\"]       191   4.148   \n",
      "12     bbb  [\"flour\",\"blueberries\",\"sugar\",\"butter\"]       183   3.874   \n",
      "22     bbb  [\"flour\",\"blueberries\",\"sugar\",\"butter\"]       184   2.982   \n",
      "38     bbb  [\"flour\",\"blueberries\",\"sugar\",\"butter\"]       182   4.166   \n",
      "45     bbb  [\"flour\",\"blueberries\",\"sugar\",\"butter\"]       213   4.007   \n",
      "52     bbb  [\"flour\",\"blueberries\",\"sugar\",\"butter\"]       184   3.974   \n",
      "59     bbb  [\"flour\",\"blueberries\",\"sugar\",\"butter\"]       193   3.791   \n",
      "66     bbb  [\"flour\",\"blueberries\",\"sugar\",\"butter\"]       199   3.654   \n",
      "77     bbb  [\"flour\",\"blueberries\",\"sugar\",\"butter\"]       172   3.794   \n",
      "84     bbb  [\"flour\",\"blueberries\",\"sugar\",\"butter\"]       185   3.992   \n",
      "91     bbb  [\"flour\",\"blueberries\",\"sugar\",\"butter\"]       186   4.089   \n",
      "98     bbb  [\"flour\",\"blueberries\",\"sugar\",\"butter\"]       208   3.976   \n",
      "111    bbb  [\"flour\",\"blueberries\",\"sugar\",\"butter\"]       171   4.045   \n",
      "118    bbb  [\"flour\",\"blueberries\",\"sugar\",\"butter\"]       177   3.950   \n",
      "127    bbb  [\"flour\",\"blueberries\",\"sugar\",\"butter\"]       199   4.281   \n",
      "\n",
      "     cost_to_make  \n",
      "4            1.39  \n",
      "12           1.07  \n",
      "22           2.01  \n",
      "38           1.11  \n",
      "45           1.34  \n",
      "52           0.77  \n",
      "59           1.43  \n",
      "66           0.81  \n",
      "77           0.96  \n",
      "84           1.09  \n",
      "91           0.73  \n",
      "98           1.62  \n",
      "111          0.93  \n",
      "118          0.67  \n",
      "127          1.36  \n",
      "chocolate         cookie                                   ingredients  calories  \\\n",
      "7    chocolate  [\"flour\",\"chocolate chips\",\"sugar\",\"butter\"]       243   \n",
      "17   chocolate  [\"flour\",\"chocolate chips\",\"sugar\",\"butter\"]       209   \n",
      "48   chocolate  [\"flour\",\"chocolate chips\",\"sugar\",\"butter\"]       240   \n",
      "55   chocolate  [\"flour\",\"chocolate chips\",\"sugar\",\"butter\"]       229   \n",
      "62   chocolate  [\"flour\",\"chocolate chips\",\"sugar\",\"butter\"]       206   \n",
      "69   chocolate  [\"flour\",\"chocolate chips\",\"sugar\",\"butter\"]       216   \n",
      "80   chocolate  [\"flour\",\"chocolate chips\",\"sugar\",\"butter\"]       197   \n",
      "87   chocolate  [\"flour\",\"chocolate chips\",\"sugar\",\"butter\"]       199   \n",
      "94   chocolate  [\"flour\",\"chocolate chips\",\"sugar\",\"butter\"]       243   \n",
      "107  chocolate  [\"flour\",\"chocolate chips\",\"sugar\",\"butter\"]       222   \n",
      "114  chocolate  [\"flour\",\"chocolate chips\",\"sugar\",\"butter\"]       226   \n",
      "121  chocolate  [\"flour\",\"chocolate chips\",\"sugar\",\"butter\"]       227   \n",
      "128  chocolate  [\"flour\",\"chocolate chips\",\"sugar\",\"butter\"]       209   \n",
      "\n",
      "     radius  cost_to_make  \n",
      "7     3.684          1.17  \n",
      "17    3.182          1.53  \n",
      "48    4.212          0.97  \n",
      "55    4.217          1.19  \n",
      "62    4.328          1.34  \n",
      "69    3.824          1.15  \n",
      "80    4.461          1.67  \n",
      "87    4.474          1.14  \n",
      "94    4.207          1.14  \n",
      "107   4.186          0.86  \n",
      "114   3.894          0.95  \n",
      "121   4.085          1.42  \n",
      "128   3.182          1.53  \n",
      "laddoo      cookie                             ingredients  calories  radius  \\\n",
      "0    laddoo  [\"flour\",\"lemon juice\",\"sugar\",\"ghee\"]       170   3.102   \n",
      "18   laddoo  [\"flour\",\"lemon juice\",\"sugar\",\"ghee\"]       167   3.548   \n",
      "35   laddoo  [\"flour\",\"lemon juice\",\"sugar\",\"ghee\"]       187   3.257   \n",
      "42   laddoo  [\"flour\",\"lemon juice\",\"sugar\",\"ghee\"]       176   4.110   \n",
      "49   laddoo  [\"flour\",\"lemon juice\",\"sugar\",\"ghee\"]       195   4.562   \n",
      "56   laddoo  [\"flour\",\"lemon juice\",\"sugar\",\"ghee\"]       165   4.123   \n",
      "63   laddoo  [\"flour\",\"lemon juice\",\"sugar\",\"ghee\"]       189   3.179   \n",
      "88   laddoo  [\"flour\",\"lemon juice\",\"sugar\",\"ghee\"]       167   4.401   \n",
      "95   laddoo  [\"flour\",\"lemon juice\",\"sugar\",\"ghee\"]       162   3.587   \n",
      "101  laddoo  [\"flour\",\"lemon juice\",\"sugar\",\"ghee\"]       178   4.519   \n",
      "108  laddoo  [\"flour\",\"lemon juice\",\"sugar\",\"ghee\"]       161   3.656   \n",
      "115  laddoo  [\"flour\",\"lemon juice\",\"sugar\",\"ghee\"]       180   4.077   \n",
      "122  laddoo  [\"flour\",\"lemon juice\",\"sugar\",\"ghee\"]       170   3.916   \n",
      "\n",
      "     cost_to_make  \n",
      "0            0.67  \n",
      "18           1.86  \n",
      "35           0.69  \n",
      "42           2.27  \n",
      "49           0.62  \n",
      "56           2.00  \n",
      "63           0.72  \n",
      "88           1.24  \n",
      "95           1.27  \n",
      "101          1.41  \n",
      "108          1.36  \n",
      "115          0.83  \n",
      "122          2.00  \n",
      "minty     cookie                                ingredients  calories  radius  \\\n",
      "6    minty  [\"flour\",\"mint extract\",\"sugar\",\"butter\"]       204   3.964   \n",
      "9    minty  [\"flour\",\"mint extract\",\"sugar\",\"butter\"]       184   3.743   \n",
      "14   minty  [\"flour\",\"mint extract\",\"sugar\",\"butter\"]       175   3.766   \n",
      "16   minty  [\"flour\",\"mint extract\",\"sugar\",\"butter\"]       204   3.964   \n",
      "27   minty  [\"flour\",\"mint extract\",\"sugar\",\"butter\"]       204   3.964   \n",
      "32   minty  [\"flour\",\"mint extract\",\"sugar\",\"butter\"]       178   2.952   \n",
      "40   minty  [\"flour\",\"mint extract\",\"sugar\",\"butter\"]       183   3.946   \n",
      "47   minty  [\"flour\",\"mint extract\",\"sugar\",\"butter\"]       174   4.388   \n",
      "54   minty  [\"flour\",\"mint extract\",\"sugar\",\"butter\"]       205   4.218   \n",
      "61   minty  [\"flour\",\"mint extract\",\"sugar\",\"butter\"]       209   3.992   \n",
      "68   minty  [\"flour\",\"mint extract\",\"sugar\",\"butter\"]       168   3.132   \n",
      "75   minty  [\"flour\",\"mint extract\",\"sugar\",\"butter\"]       178   3.447   \n",
      "79   minty  [\"flour\",\"mint extract\",\"sugar\",\"butter\"]       194   3.964   \n",
      "86   minty  [\"flour\",\"mint extract\",\"sugar\",\"butter\"]       184   3.333   \n",
      "93   minty  [\"flour\",\"mint extract\",\"sugar\",\"butter\"]       198   3.128   \n",
      "106  minty  [\"flour\",\"mint extract\",\"sugar\",\"butter\"]       181   3.794   \n",
      "113  minty  [\"flour\",\"mint extract\",\"sugar\",\"butter\"]       179   3.950   \n",
      "120  minty  [\"flour\",\"mint extract\",\"sugar\",\"butter\"]       184   3.743   \n",
      "124  minty  [\"flour\",\"mint extract\",\"sugar\",\"butter\"]       204   3.964   \n",
      "\n",
      "     cost_to_make  \n",
      "6            0.84  \n",
      "9            0.74  \n",
      "14           0.77  \n",
      "16           0.84  \n",
      "27           0.84  \n",
      "32           0.84  \n",
      "40           1.05  \n",
      "47           0.64  \n",
      "54           0.75  \n",
      "61           0.97  \n",
      "68           0.63  \n",
      "75           1.13  \n",
      "79           0.96  \n",
      "86           1.33  \n",
      "93           0.59  \n",
      "106          1.18  \n",
      "113          1.65  \n",
      "120          0.74  \n",
      "124          0.84  \n",
      "nevadito        cookie                                        ingredients  calories  \\\n",
      "2    nevadito  [\"flour\",\"chocolate chips\",\"milk\",\"vanilla ext...       224   \n",
      "10   nevadito  [\"flour\",\"chocolate chips\",\"milk\",\"vanilla ext...       216   \n",
      "19   nevadito  [\"flour\",\"chocolate chips\",\"milk\",\"vanilla ext...       236   \n",
      "29   nevadito  [\"flour\",\"chocolate chips\",\"milk\",\"vanilla ext...       219   \n",
      "36   nevadito  [\"flour\",\"chocolate chips\",\"milk\",\"vanilla ext...       211   \n",
      "43   nevadito  [\"flour\",\"chocolate chips\",\"milk\",\"vanilla ext...       205   \n",
      "50   nevadito  [\"flour\",\"chocolate chips\",\"milk\",\"vanilla ext...       220   \n",
      "57   nevadito  [\"flour\",\"chocolate chips\",\"milk\",\"vanilla ext...       208   \n",
      "64   nevadito  [\"flour\",\"chocolate chips\",\"milk\",\"vanilla ext...       211   \n",
      "71   nevadito  [\"flour\",\"chocolate chips\",\"milk\",\"vanilla ext...       214   \n",
      "82   nevadito  [\"flour\",\"chocolate chips\",\"milk\",\"vanilla ext...       253   \n",
      "89   nevadito  [\"flour\",\"chocolate chips\",\"milk\",\"vanilla ext...       249   \n",
      "96   nevadito  [\"flour\",\"chocolate chips\",\"milk\",\"vanilla ext...       230   \n",
      "102  nevadito  [\"flour\",\"chocolate chips\",\"milk\",\"vanilla ext...       229   \n",
      "125  nevadito  [\"flour\",\"chocolate chips\",\"milk\",\"vanilla ext...       211   \n",
      "\n",
      "     radius  cost_to_make  \n",
      "2     4.069          1.04  \n",
      "10    3.848          1.28  \n",
      "19    4.043          1.29  \n",
      "29    4.346          1.18  \n",
      "36    4.152          1.72  \n",
      "43    3.776          0.96  \n",
      "50    3.855          2.21  \n",
      "57    3.583          1.42  \n",
      "64    4.205          1.19  \n",
      "71    4.141          1.37  \n",
      "82    4.043          1.12  \n",
      "89    3.819          1.13  \n",
      "96    3.788          1.16  \n",
      "102   3.802          1.79  \n",
      "125   3.915          1.61  \n",
      "orange      cookie                                       ingredients  calories  \\\n",
      "5    orange  [\"flour\",\"orange juice\",\"sugar\",\"vegetable oil\"]       162   \n",
      "13   orange  [\"flour\",\"orange juice\",\"sugar\",\"vegetable oil\"]       159   \n",
      "15   orange  [\"flour\",\"orange juice\",\"sugar\",\"vegetable oil\"]       162   \n",
      "23   orange  [\"flour\",\"orange juice\",\"sugar\",\"vegetable oil\"]       156   \n",
      "26   orange  [\"flour\",\"orange juice\",\"sugar\",\"vegetable oil\"]       162   \n",
      "31   orange  [\"flour\",\"orange juice\",\"sugar\",\"vegetable oil\"]       198   \n",
      "39   orange  [\"flour\",\"orange juice\",\"sugar\",\"vegetable oil\"]       162   \n",
      "46   orange  [\"flour\",\"orange juice\",\"sugar\",\"vegetable oil\"]       183   \n",
      "53   orange  [\"flour\",\"orange juice\",\"sugar\",\"vegetable oil\"]       159   \n",
      "60   orange  [\"flour\",\"orange juice\",\"sugar\",\"vegetable oil\"]       186   \n",
      "67   orange  [\"flour\",\"orange juice\",\"sugar\",\"vegetable oil\"]       158   \n",
      "74   orange  [\"flour\",\"orange juice\",\"sugar\",\"vegetable oil\"]       161   \n",
      "78   orange  [\"flour\",\"orange juice\",\"sugar\",\"vegetable oil\"]       166   \n",
      "85   orange  [\"flour\",\"orange juice\",\"sugar\",\"vegetable oil\"]       158   \n",
      "92   orange  [\"flour\",\"orange juice\",\"sugar\",\"vegetable oil\"]       156   \n",
      "99   orange  [\"flour\",\"orange juice\",\"sugar\",\"vegetable oil\"]       180   \n",
      "105  orange  [\"flour\",\"orange juice\",\"sugar\",\"vegetable oil\"]       179   \n",
      "119  orange  [\"flour\",\"orange juice\",\"sugar\",\"vegetable oil\"]       153   \n",
      "123  orange  [\"flour\",\"orange juice\",\"sugar\",\"vegetable oil\"]       162   \n",
      "\n",
      "     radius  cost_to_make  \n",
      "5     3.241          1.15  \n",
      "13    3.429          2.09  \n",
      "15    3.241          1.15  \n",
      "23    3.765          1.63  \n",
      "26    3.241          1.15  \n",
      "31    3.448          0.68  \n",
      "39    3.498          1.18  \n",
      "46    3.627          1.41  \n",
      "53    3.462          1.01  \n",
      "60    4.573          1.06  \n",
      "67    4.003          1.00  \n",
      "74    4.147          1.63  \n",
      "78    1.695          0.82  \n",
      "85    3.467          1.44  \n",
      "92    3.451          1.63  \n",
      "99    3.252          0.65  \n",
      "105   3.246          1.48  \n",
      "119   3.794          0.60  \n",
      "123   3.241          1.15  \n",
      "red     cookie                                        ingredients  calories  \\\n",
      "1      red  [\"flour\",\"cocoa powder\",\"butter\",\"red food col...       198   \n",
      "3      red  [\"flour\",\"cocoa powder\",\"butter\",\"red food col...       198   \n",
      "11     red  [\"flour\",\"cocoa powder\",\"butter\",\"red food col...       211   \n",
      "20     red  [\"flour\",\"cocoa powder\",\"butter\",\"red food col...       198   \n",
      "21     red  [\"flour\",\"cocoa powder\",\"butter\",\"red food col...       202   \n",
      "30     red  [\"flour\",\"cocoa powder\",\"butter\",\"red food col...       204   \n",
      "33     red  [\"flour\",\"cocoa powder\",\"butter\",\"red food col...       198   \n",
      "37     red  [\"flour\",\"cocoa powder\",\"butter\",\"red food col...       193   \n",
      "44     red  [\"flour\",\"cocoa powder\",\"butter\",\"red food col...       203   \n",
      "51     red  [\"flour\",\"cocoa powder\",\"butter\",\"red food col...       193   \n",
      "58     red  [\"flour\",\"cocoa powder\",\"butter\",\"red food col...       203   \n",
      "65     red  [\"flour\",\"cocoa powder\",\"butter\",\"red food col...       211   \n",
      "72     red  [\"flour\",\"cocoa powder\",\"butter\",\"red food col...       196   \n",
      "76     red  [\"flour\",\"cocoa powder\",\"butter\",\"red food col...       206   \n",
      "83     red  [\"flour\",\"cocoa powder\",\"butter\",\"red food col...       198   \n",
      "97     red  [\"flour\",\"cocoa powder\",\"butter\",\"red food col...       191   \n",
      "103    red  [\"flour\",\"cocoa powder\",\"butter\",\"red food col...       193   \n",
      "110    red  [\"flour\",\"cocoa powder\",\"butter\",\"red food col...       198   \n",
      "117    red  [\"flour\",\"cocoa powder\",\"butter\",\"red food col...       206   \n",
      "126    red  [\"flour\",\"cocoa powder\",\"butter\",\"red food col...       197   \n",
      "\n",
      "     radius  cost_to_make  \n",
      "1     3.780          1.07  \n",
      "3     3.780          1.07  \n",
      "11    3.940          0.76  \n",
      "20    3.780          1.07  \n",
      "21    4.289          1.23  \n",
      "30    4.667          1.40  \n",
      "33    3.780          1.07  \n",
      "37    3.172          0.97  \n",
      "44    4.272          1.94  \n",
      "51    3.661          1.59  \n",
      "58    4.112          0.91  \n",
      "65    3.873          1.64  \n",
      "72    4.425          0.87  \n",
      "76    4.319          1.24  \n",
      "83    3.960          0.79  \n",
      "97    4.475          1.24  \n",
      "103   3.732          1.16  \n",
      "110   4.930          1.05  \n",
      "117   4.297          0.73  \n",
      "126   3.906          1.33  \n"
     ]
    }
   ],
   "source": [
    "#TODO: group by cookie type\n",
    "\n",
    "groups = cookies.groupby('cookie')\n",
    "\n",
    "for key, item in groups:\n",
    "    print(key, item)\n"
   ]
  },
  {
   "attachments": {},
   "cell_type": "markdown",
   "metadata": {},
   "source": [
    "We can also group by multiple columns. For example, we can group the data by the `cookie` and `ingredients` columns."
   ]
  },
  {
   "cell_type": "code",
   "execution_count": 85,
   "metadata": {},
   "outputs": [
    {
     "name": "stdout",
     "output_type": "stream",
     "text": [
      "('bbb', '[\"flour\",\"blueberries\",\"sugar\",\"butter\"]')     cookie                               ingredients  calories  radius  \\\n",
      "4      bbb  [\"flour\",\"blueberries\",\"sugar\",\"butter\"]       191   4.148   \n",
      "12     bbb  [\"flour\",\"blueberries\",\"sugar\",\"butter\"]       183   3.874   \n",
      "22     bbb  [\"flour\",\"blueberries\",\"sugar\",\"butter\"]       184   2.982   \n",
      "38     bbb  [\"flour\",\"blueberries\",\"sugar\",\"butter\"]       182   4.166   \n",
      "45     bbb  [\"flour\",\"blueberries\",\"sugar\",\"butter\"]       213   4.007   \n",
      "52     bbb  [\"flour\",\"blueberries\",\"sugar\",\"butter\"]       184   3.974   \n",
      "59     bbb  [\"flour\",\"blueberries\",\"sugar\",\"butter\"]       193   3.791   \n",
      "66     bbb  [\"flour\",\"blueberries\",\"sugar\",\"butter\"]       199   3.654   \n",
      "77     bbb  [\"flour\",\"blueberries\",\"sugar\",\"butter\"]       172   3.794   \n",
      "84     bbb  [\"flour\",\"blueberries\",\"sugar\",\"butter\"]       185   3.992   \n",
      "91     bbb  [\"flour\",\"blueberries\",\"sugar\",\"butter\"]       186   4.089   \n",
      "98     bbb  [\"flour\",\"blueberries\",\"sugar\",\"butter\"]       208   3.976   \n",
      "111    bbb  [\"flour\",\"blueberries\",\"sugar\",\"butter\"]       171   4.045   \n",
      "118    bbb  [\"flour\",\"blueberries\",\"sugar\",\"butter\"]       177   3.950   \n",
      "127    bbb  [\"flour\",\"blueberries\",\"sugar\",\"butter\"]       199   4.281   \n",
      "\n",
      "     cost_to_make  \n",
      "4            1.39  \n",
      "12           1.07  \n",
      "22           2.01  \n",
      "38           1.11  \n",
      "45           1.34  \n",
      "52           0.77  \n",
      "59           1.43  \n",
      "66           0.81  \n",
      "77           0.96  \n",
      "84           1.09  \n",
      "91           0.73  \n",
      "98           1.62  \n",
      "111          0.93  \n",
      "118          0.67  \n",
      "127          1.36  \n",
      "('chocolate', '[\"flour\",\"chocolate chips\",\"sugar\",\"butter\"]')         cookie                                   ingredients  calories  \\\n",
      "7    chocolate  [\"flour\",\"chocolate chips\",\"sugar\",\"butter\"]       243   \n",
      "17   chocolate  [\"flour\",\"chocolate chips\",\"sugar\",\"butter\"]       209   \n",
      "48   chocolate  [\"flour\",\"chocolate chips\",\"sugar\",\"butter\"]       240   \n",
      "55   chocolate  [\"flour\",\"chocolate chips\",\"sugar\",\"butter\"]       229   \n",
      "62   chocolate  [\"flour\",\"chocolate chips\",\"sugar\",\"butter\"]       206   \n",
      "69   chocolate  [\"flour\",\"chocolate chips\",\"sugar\",\"butter\"]       216   \n",
      "80   chocolate  [\"flour\",\"chocolate chips\",\"sugar\",\"butter\"]       197   \n",
      "87   chocolate  [\"flour\",\"chocolate chips\",\"sugar\",\"butter\"]       199   \n",
      "94   chocolate  [\"flour\",\"chocolate chips\",\"sugar\",\"butter\"]       243   \n",
      "107  chocolate  [\"flour\",\"chocolate chips\",\"sugar\",\"butter\"]       222   \n",
      "114  chocolate  [\"flour\",\"chocolate chips\",\"sugar\",\"butter\"]       226   \n",
      "121  chocolate  [\"flour\",\"chocolate chips\",\"sugar\",\"butter\"]       227   \n",
      "128  chocolate  [\"flour\",\"chocolate chips\",\"sugar\",\"butter\"]       209   \n",
      "\n",
      "     radius  cost_to_make  \n",
      "7     3.684          1.17  \n",
      "17    3.182          1.53  \n",
      "48    4.212          0.97  \n",
      "55    4.217          1.19  \n",
      "62    4.328          1.34  \n",
      "69    3.824          1.15  \n",
      "80    4.461          1.67  \n",
      "87    4.474          1.14  \n",
      "94    4.207          1.14  \n",
      "107   4.186          0.86  \n",
      "114   3.894          0.95  \n",
      "121   4.085          1.42  \n",
      "128   3.182          1.53  \n",
      "('laddoo', '[\"flour\",\"lemon juice\",\"sugar\",\"ghee\"]')      cookie                             ingredients  calories  radius  \\\n",
      "0    laddoo  [\"flour\",\"lemon juice\",\"sugar\",\"ghee\"]       170   3.102   \n",
      "18   laddoo  [\"flour\",\"lemon juice\",\"sugar\",\"ghee\"]       167   3.548   \n",
      "35   laddoo  [\"flour\",\"lemon juice\",\"sugar\",\"ghee\"]       187   3.257   \n",
      "42   laddoo  [\"flour\",\"lemon juice\",\"sugar\",\"ghee\"]       176   4.110   \n",
      "49   laddoo  [\"flour\",\"lemon juice\",\"sugar\",\"ghee\"]       195   4.562   \n",
      "56   laddoo  [\"flour\",\"lemon juice\",\"sugar\",\"ghee\"]       165   4.123   \n",
      "63   laddoo  [\"flour\",\"lemon juice\",\"sugar\",\"ghee\"]       189   3.179   \n",
      "88   laddoo  [\"flour\",\"lemon juice\",\"sugar\",\"ghee\"]       167   4.401   \n",
      "95   laddoo  [\"flour\",\"lemon juice\",\"sugar\",\"ghee\"]       162   3.587   \n",
      "101  laddoo  [\"flour\",\"lemon juice\",\"sugar\",\"ghee\"]       178   4.519   \n",
      "108  laddoo  [\"flour\",\"lemon juice\",\"sugar\",\"ghee\"]       161   3.656   \n",
      "115  laddoo  [\"flour\",\"lemon juice\",\"sugar\",\"ghee\"]       180   4.077   \n",
      "122  laddoo  [\"flour\",\"lemon juice\",\"sugar\",\"ghee\"]       170   3.916   \n",
      "\n",
      "     cost_to_make  \n",
      "0            0.67  \n",
      "18           1.86  \n",
      "35           0.69  \n",
      "42           2.27  \n",
      "49           0.62  \n",
      "56           2.00  \n",
      "63           0.72  \n",
      "88           1.24  \n",
      "95           1.27  \n",
      "101          1.41  \n",
      "108          1.36  \n",
      "115          0.83  \n",
      "122          2.00  \n",
      "('minty', '[\"flour\",\"mint extract\",\"sugar\",\"butter\"]')     cookie                                ingredients  calories  radius  \\\n",
      "6    minty  [\"flour\",\"mint extract\",\"sugar\",\"butter\"]       204   3.964   \n",
      "9    minty  [\"flour\",\"mint extract\",\"sugar\",\"butter\"]       184   3.743   \n",
      "14   minty  [\"flour\",\"mint extract\",\"sugar\",\"butter\"]       175   3.766   \n",
      "16   minty  [\"flour\",\"mint extract\",\"sugar\",\"butter\"]       204   3.964   \n",
      "27   minty  [\"flour\",\"mint extract\",\"sugar\",\"butter\"]       204   3.964   \n",
      "32   minty  [\"flour\",\"mint extract\",\"sugar\",\"butter\"]       178   2.952   \n",
      "40   minty  [\"flour\",\"mint extract\",\"sugar\",\"butter\"]       183   3.946   \n",
      "47   minty  [\"flour\",\"mint extract\",\"sugar\",\"butter\"]       174   4.388   \n",
      "54   minty  [\"flour\",\"mint extract\",\"sugar\",\"butter\"]       205   4.218   \n",
      "61   minty  [\"flour\",\"mint extract\",\"sugar\",\"butter\"]       209   3.992   \n",
      "68   minty  [\"flour\",\"mint extract\",\"sugar\",\"butter\"]       168   3.132   \n",
      "75   minty  [\"flour\",\"mint extract\",\"sugar\",\"butter\"]       178   3.447   \n",
      "79   minty  [\"flour\",\"mint extract\",\"sugar\",\"butter\"]       194   3.964   \n",
      "86   minty  [\"flour\",\"mint extract\",\"sugar\",\"butter\"]       184   3.333   \n",
      "93   minty  [\"flour\",\"mint extract\",\"sugar\",\"butter\"]       198   3.128   \n",
      "106  minty  [\"flour\",\"mint extract\",\"sugar\",\"butter\"]       181   3.794   \n",
      "113  minty  [\"flour\",\"mint extract\",\"sugar\",\"butter\"]       179   3.950   \n",
      "120  minty  [\"flour\",\"mint extract\",\"sugar\",\"butter\"]       184   3.743   \n",
      "124  minty  [\"flour\",\"mint extract\",\"sugar\",\"butter\"]       204   3.964   \n",
      "\n",
      "     cost_to_make  \n",
      "6            0.84  \n",
      "9            0.74  \n",
      "14           0.77  \n",
      "16           0.84  \n",
      "27           0.84  \n",
      "32           0.84  \n",
      "40           1.05  \n",
      "47           0.64  \n",
      "54           0.75  \n",
      "61           0.97  \n",
      "68           0.63  \n",
      "75           1.13  \n",
      "79           0.96  \n",
      "86           1.33  \n",
      "93           0.59  \n",
      "106          1.18  \n",
      "113          1.65  \n",
      "120          0.74  \n",
      "124          0.84  \n",
      "('nevadito', '[\"flour\",\"chocolate chips\",\"milk\",\"vanilla extract\"]')        cookie                                        ingredients  calories  \\\n",
      "2    nevadito  [\"flour\",\"chocolate chips\",\"milk\",\"vanilla ext...       224   \n",
      "10   nevadito  [\"flour\",\"chocolate chips\",\"milk\",\"vanilla ext...       216   \n",
      "19   nevadito  [\"flour\",\"chocolate chips\",\"milk\",\"vanilla ext...       236   \n",
      "29   nevadito  [\"flour\",\"chocolate chips\",\"milk\",\"vanilla ext...       219   \n",
      "36   nevadito  [\"flour\",\"chocolate chips\",\"milk\",\"vanilla ext...       211   \n",
      "43   nevadito  [\"flour\",\"chocolate chips\",\"milk\",\"vanilla ext...       205   \n",
      "50   nevadito  [\"flour\",\"chocolate chips\",\"milk\",\"vanilla ext...       220   \n",
      "57   nevadito  [\"flour\",\"chocolate chips\",\"milk\",\"vanilla ext...       208   \n",
      "64   nevadito  [\"flour\",\"chocolate chips\",\"milk\",\"vanilla ext...       211   \n",
      "71   nevadito  [\"flour\",\"chocolate chips\",\"milk\",\"vanilla ext...       214   \n",
      "82   nevadito  [\"flour\",\"chocolate chips\",\"milk\",\"vanilla ext...       253   \n",
      "89   nevadito  [\"flour\",\"chocolate chips\",\"milk\",\"vanilla ext...       249   \n",
      "96   nevadito  [\"flour\",\"chocolate chips\",\"milk\",\"vanilla ext...       230   \n",
      "102  nevadito  [\"flour\",\"chocolate chips\",\"milk\",\"vanilla ext...       229   \n",
      "125  nevadito  [\"flour\",\"chocolate chips\",\"milk\",\"vanilla ext...       211   \n",
      "\n",
      "     radius  cost_to_make  \n",
      "2     4.069          1.04  \n",
      "10    3.848          1.28  \n",
      "19    4.043          1.29  \n",
      "29    4.346          1.18  \n",
      "36    4.152          1.72  \n",
      "43    3.776          0.96  \n",
      "50    3.855          2.21  \n",
      "57    3.583          1.42  \n",
      "64    4.205          1.19  \n",
      "71    4.141          1.37  \n",
      "82    4.043          1.12  \n",
      "89    3.819          1.13  \n",
      "96    3.788          1.16  \n",
      "102   3.802          1.79  \n",
      "125   3.915          1.61  \n",
      "('orange', '[\"flour\",\"orange juice\",\"sugar\",\"vegetable oil\"]')      cookie                                       ingredients  calories  \\\n",
      "5    orange  [\"flour\",\"orange juice\",\"sugar\",\"vegetable oil\"]       162   \n",
      "13   orange  [\"flour\",\"orange juice\",\"sugar\",\"vegetable oil\"]       159   \n",
      "15   orange  [\"flour\",\"orange juice\",\"sugar\",\"vegetable oil\"]       162   \n",
      "23   orange  [\"flour\",\"orange juice\",\"sugar\",\"vegetable oil\"]       156   \n",
      "26   orange  [\"flour\",\"orange juice\",\"sugar\",\"vegetable oil\"]       162   \n",
      "31   orange  [\"flour\",\"orange juice\",\"sugar\",\"vegetable oil\"]       198   \n",
      "39   orange  [\"flour\",\"orange juice\",\"sugar\",\"vegetable oil\"]       162   \n",
      "46   orange  [\"flour\",\"orange juice\",\"sugar\",\"vegetable oil\"]       183   \n",
      "53   orange  [\"flour\",\"orange juice\",\"sugar\",\"vegetable oil\"]       159   \n",
      "60   orange  [\"flour\",\"orange juice\",\"sugar\",\"vegetable oil\"]       186   \n",
      "67   orange  [\"flour\",\"orange juice\",\"sugar\",\"vegetable oil\"]       158   \n",
      "74   orange  [\"flour\",\"orange juice\",\"sugar\",\"vegetable oil\"]       161   \n",
      "78   orange  [\"flour\",\"orange juice\",\"sugar\",\"vegetable oil\"]       166   \n",
      "85   orange  [\"flour\",\"orange juice\",\"sugar\",\"vegetable oil\"]       158   \n",
      "92   orange  [\"flour\",\"orange juice\",\"sugar\",\"vegetable oil\"]       156   \n",
      "99   orange  [\"flour\",\"orange juice\",\"sugar\",\"vegetable oil\"]       180   \n",
      "105  orange  [\"flour\",\"orange juice\",\"sugar\",\"vegetable oil\"]       179   \n",
      "119  orange  [\"flour\",\"orange juice\",\"sugar\",\"vegetable oil\"]       153   \n",
      "123  orange  [\"flour\",\"orange juice\",\"sugar\",\"vegetable oil\"]       162   \n",
      "\n",
      "     radius  cost_to_make  \n",
      "5     3.241          1.15  \n",
      "13    3.429          2.09  \n",
      "15    3.241          1.15  \n",
      "23    3.765          1.63  \n",
      "26    3.241          1.15  \n",
      "31    3.448          0.68  \n",
      "39    3.498          1.18  \n",
      "46    3.627          1.41  \n",
      "53    3.462          1.01  \n",
      "60    4.573          1.06  \n",
      "67    4.003          1.00  \n",
      "74    4.147          1.63  \n",
      "78    1.695          0.82  \n",
      "85    3.467          1.44  \n",
      "92    3.451          1.63  \n",
      "99    3.252          0.65  \n",
      "105   3.246          1.48  \n",
      "119   3.794          0.60  \n",
      "123   3.241          1.15  \n",
      "('red', '[\"flour\",\"cocoa powder\",\"butter\",\"red food coloring\"]')     cookie                                        ingredients  calories  \\\n",
      "1      red  [\"flour\",\"cocoa powder\",\"butter\",\"red food col...       198   \n",
      "3      red  [\"flour\",\"cocoa powder\",\"butter\",\"red food col...       198   \n",
      "11     red  [\"flour\",\"cocoa powder\",\"butter\",\"red food col...       211   \n",
      "20     red  [\"flour\",\"cocoa powder\",\"butter\",\"red food col...       198   \n",
      "21     red  [\"flour\",\"cocoa powder\",\"butter\",\"red food col...       202   \n",
      "30     red  [\"flour\",\"cocoa powder\",\"butter\",\"red food col...       204   \n",
      "33     red  [\"flour\",\"cocoa powder\",\"butter\",\"red food col...       198   \n",
      "37     red  [\"flour\",\"cocoa powder\",\"butter\",\"red food col...       193   \n",
      "44     red  [\"flour\",\"cocoa powder\",\"butter\",\"red food col...       203   \n",
      "51     red  [\"flour\",\"cocoa powder\",\"butter\",\"red food col...       193   \n",
      "58     red  [\"flour\",\"cocoa powder\",\"butter\",\"red food col...       203   \n",
      "65     red  [\"flour\",\"cocoa powder\",\"butter\",\"red food col...       211   \n",
      "72     red  [\"flour\",\"cocoa powder\",\"butter\",\"red food col...       196   \n",
      "76     red  [\"flour\",\"cocoa powder\",\"butter\",\"red food col...       206   \n",
      "83     red  [\"flour\",\"cocoa powder\",\"butter\",\"red food col...       198   \n",
      "97     red  [\"flour\",\"cocoa powder\",\"butter\",\"red food col...       191   \n",
      "103    red  [\"flour\",\"cocoa powder\",\"butter\",\"red food col...       193   \n",
      "110    red  [\"flour\",\"cocoa powder\",\"butter\",\"red food col...       198   \n",
      "117    red  [\"flour\",\"cocoa powder\",\"butter\",\"red food col...       206   \n",
      "126    red  [\"flour\",\"cocoa powder\",\"butter\",\"red food col...       197   \n",
      "\n",
      "     radius  cost_to_make  \n",
      "1     3.780          1.07  \n",
      "3     3.780          1.07  \n",
      "11    3.940          0.76  \n",
      "20    3.780          1.07  \n",
      "21    4.289          1.23  \n",
      "30    4.667          1.40  \n",
      "33    3.780          1.07  \n",
      "37    3.172          0.97  \n",
      "44    4.272          1.94  \n",
      "51    3.661          1.59  \n",
      "58    4.112          0.91  \n",
      "65    3.873          1.64  \n",
      "72    4.425          0.87  \n",
      "76    4.319          1.24  \n",
      "83    3.960          0.79  \n",
      "97    4.475          1.24  \n",
      "103   3.732          1.16  \n",
      "110   4.930          1.05  \n",
      "117   4.297          0.73  \n",
      "126   3.906          1.33  \n"
     ]
    }
   ],
   "source": [
    "#TODO: group by cookie type and ingredients\n",
    "\n",
    "groups = cookies.groupby(['cookie', 'ingredients'])\n",
    "\n",
    "for key, item in groups:\n",
    "    print(key, item)\n"
   ]
  },
  {
   "attachments": {},
   "cell_type": "markdown",
   "metadata": {},
   "source": [
    "We may also want to filter the data. For example, we can filter the data to only show the cookies that have a radius greater than 4.3 cm. We can do this by indexing the DataFrame with a boolean expression."
   ]
  },
  {
   "cell_type": "code",
   "execution_count": 86,
   "metadata": {},
   "outputs": [
    {
     "data": {
      "text/html": [
       "<div>\n",
       "<style scoped>\n",
       "    .dataframe tbody tr th:only-of-type {\n",
       "        vertical-align: middle;\n",
       "    }\n",
       "\n",
       "    .dataframe tbody tr th {\n",
       "        vertical-align: top;\n",
       "    }\n",
       "\n",
       "    .dataframe thead th {\n",
       "        text-align: right;\n",
       "    }\n",
       "</style>\n",
       "<table border=\"1\" class=\"dataframe\">\n",
       "  <thead>\n",
       "    <tr style=\"text-align: right;\">\n",
       "      <th></th>\n",
       "      <th>cookie</th>\n",
       "      <th>ingredients</th>\n",
       "      <th>calories</th>\n",
       "      <th>radius</th>\n",
       "      <th>cost_to_make</th>\n",
       "    </tr>\n",
       "  </thead>\n",
       "  <tbody>\n",
       "    <tr>\n",
       "      <th>29</th>\n",
       "      <td>nevadito</td>\n",
       "      <td>[\"flour\",\"chocolate chips\",\"milk\",\"vanilla ext...</td>\n",
       "      <td>219</td>\n",
       "      <td>4.346</td>\n",
       "      <td>1.18</td>\n",
       "    </tr>\n",
       "    <tr>\n",
       "      <th>30</th>\n",
       "      <td>red</td>\n",
       "      <td>[\"flour\",\"cocoa powder\",\"butter\",\"red food col...</td>\n",
       "      <td>204</td>\n",
       "      <td>4.667</td>\n",
       "      <td>1.40</td>\n",
       "    </tr>\n",
       "    <tr>\n",
       "      <th>47</th>\n",
       "      <td>minty</td>\n",
       "      <td>[\"flour\",\"mint extract\",\"sugar\",\"butter\"]</td>\n",
       "      <td>174</td>\n",
       "      <td>4.388</td>\n",
       "      <td>0.64</td>\n",
       "    </tr>\n",
       "    <tr>\n",
       "      <th>49</th>\n",
       "      <td>laddoo</td>\n",
       "      <td>[\"flour\",\"lemon juice\",\"sugar\",\"ghee\"]</td>\n",
       "      <td>195</td>\n",
       "      <td>4.562</td>\n",
       "      <td>0.62</td>\n",
       "    </tr>\n",
       "    <tr>\n",
       "      <th>60</th>\n",
       "      <td>orange</td>\n",
       "      <td>[\"flour\",\"orange juice\",\"sugar\",\"vegetable oil\"]</td>\n",
       "      <td>186</td>\n",
       "      <td>4.573</td>\n",
       "      <td>1.06</td>\n",
       "    </tr>\n",
       "    <tr>\n",
       "      <th>62</th>\n",
       "      <td>chocolate</td>\n",
       "      <td>[\"flour\",\"chocolate chips\",\"sugar\",\"butter\"]</td>\n",
       "      <td>206</td>\n",
       "      <td>4.328</td>\n",
       "      <td>1.34</td>\n",
       "    </tr>\n",
       "    <tr>\n",
       "      <th>72</th>\n",
       "      <td>red</td>\n",
       "      <td>[\"flour\",\"cocoa powder\",\"butter\",\"red food col...</td>\n",
       "      <td>196</td>\n",
       "      <td>4.425</td>\n",
       "      <td>0.87</td>\n",
       "    </tr>\n",
       "    <tr>\n",
       "      <th>76</th>\n",
       "      <td>red</td>\n",
       "      <td>[\"flour\",\"cocoa powder\",\"butter\",\"red food col...</td>\n",
       "      <td>206</td>\n",
       "      <td>4.319</td>\n",
       "      <td>1.24</td>\n",
       "    </tr>\n",
       "    <tr>\n",
       "      <th>80</th>\n",
       "      <td>chocolate</td>\n",
       "      <td>[\"flour\",\"chocolate chips\",\"sugar\",\"butter\"]</td>\n",
       "      <td>197</td>\n",
       "      <td>4.461</td>\n",
       "      <td>1.67</td>\n",
       "    </tr>\n",
       "    <tr>\n",
       "      <th>87</th>\n",
       "      <td>chocolate</td>\n",
       "      <td>[\"flour\",\"chocolate chips\",\"sugar\",\"butter\"]</td>\n",
       "      <td>199</td>\n",
       "      <td>4.474</td>\n",
       "      <td>1.14</td>\n",
       "    </tr>\n",
       "    <tr>\n",
       "      <th>88</th>\n",
       "      <td>laddoo</td>\n",
       "      <td>[\"flour\",\"lemon juice\",\"sugar\",\"ghee\"]</td>\n",
       "      <td>167</td>\n",
       "      <td>4.401</td>\n",
       "      <td>1.24</td>\n",
       "    </tr>\n",
       "    <tr>\n",
       "      <th>97</th>\n",
       "      <td>red</td>\n",
       "      <td>[\"flour\",\"cocoa powder\",\"butter\",\"red food col...</td>\n",
       "      <td>191</td>\n",
       "      <td>4.475</td>\n",
       "      <td>1.24</td>\n",
       "    </tr>\n",
       "    <tr>\n",
       "      <th>101</th>\n",
       "      <td>laddoo</td>\n",
       "      <td>[\"flour\",\"lemon juice\",\"sugar\",\"ghee\"]</td>\n",
       "      <td>178</td>\n",
       "      <td>4.519</td>\n",
       "      <td>1.41</td>\n",
       "    </tr>\n",
       "    <tr>\n",
       "      <th>110</th>\n",
       "      <td>red</td>\n",
       "      <td>[\"flour\",\"cocoa powder\",\"butter\",\"red food col...</td>\n",
       "      <td>198</td>\n",
       "      <td>4.930</td>\n",
       "      <td>1.05</td>\n",
       "    </tr>\n",
       "  </tbody>\n",
       "</table>\n",
       "</div>"
      ],
      "text/plain": [
       "        cookie                                        ingredients  calories  \\\n",
       "29    nevadito  [\"flour\",\"chocolate chips\",\"milk\",\"vanilla ext...       219   \n",
       "30         red  [\"flour\",\"cocoa powder\",\"butter\",\"red food col...       204   \n",
       "47       minty          [\"flour\",\"mint extract\",\"sugar\",\"butter\"]       174   \n",
       "49      laddoo             [\"flour\",\"lemon juice\",\"sugar\",\"ghee\"]       195   \n",
       "60      orange   [\"flour\",\"orange juice\",\"sugar\",\"vegetable oil\"]       186   \n",
       "62   chocolate       [\"flour\",\"chocolate chips\",\"sugar\",\"butter\"]       206   \n",
       "72         red  [\"flour\",\"cocoa powder\",\"butter\",\"red food col...       196   \n",
       "76         red  [\"flour\",\"cocoa powder\",\"butter\",\"red food col...       206   \n",
       "80   chocolate       [\"flour\",\"chocolate chips\",\"sugar\",\"butter\"]       197   \n",
       "87   chocolate       [\"flour\",\"chocolate chips\",\"sugar\",\"butter\"]       199   \n",
       "88      laddoo             [\"flour\",\"lemon juice\",\"sugar\",\"ghee\"]       167   \n",
       "97         red  [\"flour\",\"cocoa powder\",\"butter\",\"red food col...       191   \n",
       "101     laddoo             [\"flour\",\"lemon juice\",\"sugar\",\"ghee\"]       178   \n",
       "110        red  [\"flour\",\"cocoa powder\",\"butter\",\"red food col...       198   \n",
       "\n",
       "     radius  cost_to_make  \n",
       "29    4.346          1.18  \n",
       "30    4.667          1.40  \n",
       "47    4.388          0.64  \n",
       "49    4.562          0.62  \n",
       "60    4.573          1.06  \n",
       "62    4.328          1.34  \n",
       "72    4.425          0.87  \n",
       "76    4.319          1.24  \n",
       "80    4.461          1.67  \n",
       "87    4.474          1.14  \n",
       "88    4.401          1.24  \n",
       "97    4.475          1.24  \n",
       "101   4.519          1.41  \n",
       "110   4.930          1.05  "
      ]
     },
     "execution_count": 86,
     "metadata": {},
     "output_type": "execute_result"
    }
   ],
   "source": [
    "#TODO: filter using the boolean expression\n",
    "\n",
    "cookies[cookies['radius'] > 4.3]\n"
   ]
  },
  {
   "attachments": {},
   "cell_type": "markdown",
   "metadata": {},
   "source": [
    "We may even want to use `groupby()` and filter idea together! For example, we can filter the data to only show the cookies that have a radius greater than 4.3 cm, and group the data by the `cookie` column."
   ]
  },
  {
   "cell_type": "code",
   "execution_count": 87,
   "metadata": {},
   "outputs": [
    {
     "name": "stdout",
     "output_type": "stream",
     "text": [
      "chocolate        cookie                                   ingredients  calories  radius  \\\n",
      "62  chocolate  [\"flour\",\"chocolate chips\",\"sugar\",\"butter\"]       206   4.328   \n",
      "80  chocolate  [\"flour\",\"chocolate chips\",\"sugar\",\"butter\"]       197   4.461   \n",
      "87  chocolate  [\"flour\",\"chocolate chips\",\"sugar\",\"butter\"]       199   4.474   \n",
      "\n",
      "    cost_to_make  \n",
      "62          1.34  \n",
      "80          1.67  \n",
      "87          1.14  \n",
      "laddoo      cookie                             ingredients  calories  radius  \\\n",
      "49   laddoo  [\"flour\",\"lemon juice\",\"sugar\",\"ghee\"]       195   4.562   \n",
      "88   laddoo  [\"flour\",\"lemon juice\",\"sugar\",\"ghee\"]       167   4.401   \n",
      "101  laddoo  [\"flour\",\"lemon juice\",\"sugar\",\"ghee\"]       178   4.519   \n",
      "\n",
      "     cost_to_make  \n",
      "49           0.62  \n",
      "88           1.24  \n",
      "101          1.41  \n",
      "minty    cookie                                ingredients  calories  radius  \\\n",
      "47  minty  [\"flour\",\"mint extract\",\"sugar\",\"butter\"]       174   4.388   \n",
      "\n",
      "    cost_to_make  \n",
      "47          0.64  \n",
      "nevadito       cookie                                        ingredients  calories  \\\n",
      "29  nevadito  [\"flour\",\"chocolate chips\",\"milk\",\"vanilla ext...       219   \n",
      "\n",
      "    radius  cost_to_make  \n",
      "29   4.346          1.18  \n",
      "orange     cookie                                       ingredients  calories  \\\n",
      "60  orange  [\"flour\",\"orange juice\",\"sugar\",\"vegetable oil\"]       186   \n",
      "\n",
      "    radius  cost_to_make  \n",
      "60   4.573          1.06  \n",
      "red     cookie                                        ingredients  calories  \\\n",
      "30     red  [\"flour\",\"cocoa powder\",\"butter\",\"red food col...       204   \n",
      "72     red  [\"flour\",\"cocoa powder\",\"butter\",\"red food col...       196   \n",
      "76     red  [\"flour\",\"cocoa powder\",\"butter\",\"red food col...       206   \n",
      "97     red  [\"flour\",\"cocoa powder\",\"butter\",\"red food col...       191   \n",
      "110    red  [\"flour\",\"cocoa powder\",\"butter\",\"red food col...       198   \n",
      "\n",
      "     radius  cost_to_make  \n",
      "30    4.667          1.40  \n",
      "72    4.425          0.87  \n",
      "76    4.319          1.24  \n",
      "97    4.475          1.24  \n",
      "110   4.930          1.05  \n"
     ]
    }
   ],
   "source": [
    "#TODO: filter the data using the boolean expression\n",
    "# then group by cookie column\n",
    "\n",
    "big_cookies = cookies[cookies['radius'] > 4.3].groupby('cookie')\n",
    "\n",
    "for key, item in big_cookies:\n",
    "    print(key, item)"
   ]
  },
  {
   "attachments": {},
   "cell_type": "markdown",
   "metadata": {},
   "source": [
    "We may also want to aggregate the data. For example, we can aggregate the data by looking at the ratio of calories to radius. We can do this by using indexing and the `apply()` function."
   ]
  },
  {
   "cell_type": "code",
   "execution_count": 88,
   "metadata": {},
   "outputs": [
    {
     "name": "stdout",
     "output_type": "stream",
     "text": [
      "       cookie                                        ingredients  calories  \\\n",
      "0      laddoo             [\"flour\",\"lemon juice\",\"sugar\",\"ghee\"]       170   \n",
      "1         red  [\"flour\",\"cocoa powder\",\"butter\",\"red food col...       198   \n",
      "2    nevadito  [\"flour\",\"chocolate chips\",\"milk\",\"vanilla ext...       224   \n",
      "3         red  [\"flour\",\"cocoa powder\",\"butter\",\"red food col...       198   \n",
      "4         bbb           [\"flour\",\"blueberries\",\"sugar\",\"butter\"]       191   \n",
      "5      orange   [\"flour\",\"orange juice\",\"sugar\",\"vegetable oil\"]       162   \n",
      "6       minty          [\"flour\",\"mint extract\",\"sugar\",\"butter\"]       204   \n",
      "7   chocolate       [\"flour\",\"chocolate chips\",\"sugar\",\"butter\"]       243   \n",
      "9       minty          [\"flour\",\"mint extract\",\"sugar\",\"butter\"]       184   \n",
      "10   nevadito  [\"flour\",\"chocolate chips\",\"milk\",\"vanilla ext...       216   \n",
      "\n",
      "    radius  cost_to_make  calories per radius  \n",
      "0    3.102          0.67            54.803353  \n",
      "1    3.780          1.07            52.380952  \n",
      "2    4.069          1.04            55.050381  \n",
      "3    3.780          1.07            52.380952  \n",
      "4    4.148          1.39            46.046287  \n",
      "5    3.241          1.15            49.984573  \n",
      "6    3.964          0.84            51.463169  \n",
      "7    3.684          1.17            65.960912  \n",
      "9    3.743          0.74            49.158429  \n",
      "10   3.848          1.28            56.133056  \n"
     ]
    }
   ],
   "source": [
    "#TODO: add a column to the dataframe that is the\n",
    "# calories per radius\n",
    "\n",
    "cookies['calories per radius'] = cookies.apply(lambda cookie: cookie['calories'] / cookie['radius'], axis = 1)\n",
    "print(cookies.head(10))"
   ]
  },
  {
   "attachments": {},
   "cell_type": "markdown",
   "metadata": {},
   "source": [
    "Or we can just get rid of this column if we find it useless. We can do this by using the `drop()` function or indexing."
   ]
  },
  {
   "cell_type": "code",
   "execution_count": 89,
   "metadata": {},
   "outputs": [
    {
     "data": {
      "text/html": [
       "<div>\n",
       "<style scoped>\n",
       "    .dataframe tbody tr th:only-of-type {\n",
       "        vertical-align: middle;\n",
       "    }\n",
       "\n",
       "    .dataframe tbody tr th {\n",
       "        vertical-align: top;\n",
       "    }\n",
       "\n",
       "    .dataframe thead th {\n",
       "        text-align: right;\n",
       "    }\n",
       "</style>\n",
       "<table border=\"1\" class=\"dataframe\">\n",
       "  <thead>\n",
       "    <tr style=\"text-align: right;\">\n",
       "      <th></th>\n",
       "      <th>cookie</th>\n",
       "      <th>ingredients</th>\n",
       "      <th>calories</th>\n",
       "      <th>radius</th>\n",
       "      <th>cost_to_make</th>\n",
       "    </tr>\n",
       "  </thead>\n",
       "  <tbody>\n",
       "    <tr>\n",
       "      <th>0</th>\n",
       "      <td>laddoo</td>\n",
       "      <td>[\"flour\",\"lemon juice\",\"sugar\",\"ghee\"]</td>\n",
       "      <td>170</td>\n",
       "      <td>3.102</td>\n",
       "      <td>0.67</td>\n",
       "    </tr>\n",
       "    <tr>\n",
       "      <th>1</th>\n",
       "      <td>red</td>\n",
       "      <td>[\"flour\",\"cocoa powder\",\"butter\",\"red food col...</td>\n",
       "      <td>198</td>\n",
       "      <td>3.780</td>\n",
       "      <td>1.07</td>\n",
       "    </tr>\n",
       "    <tr>\n",
       "      <th>2</th>\n",
       "      <td>nevadito</td>\n",
       "      <td>[\"flour\",\"chocolate chips\",\"milk\",\"vanilla ext...</td>\n",
       "      <td>224</td>\n",
       "      <td>4.069</td>\n",
       "      <td>1.04</td>\n",
       "    </tr>\n",
       "    <tr>\n",
       "      <th>3</th>\n",
       "      <td>red</td>\n",
       "      <td>[\"flour\",\"cocoa powder\",\"butter\",\"red food col...</td>\n",
       "      <td>198</td>\n",
       "      <td>3.780</td>\n",
       "      <td>1.07</td>\n",
       "    </tr>\n",
       "    <tr>\n",
       "      <th>4</th>\n",
       "      <td>bbb</td>\n",
       "      <td>[\"flour\",\"blueberries\",\"sugar\",\"butter\"]</td>\n",
       "      <td>191</td>\n",
       "      <td>4.148</td>\n",
       "      <td>1.39</td>\n",
       "    </tr>\n",
       "    <tr>\n",
       "      <th>...</th>\n",
       "      <td>...</td>\n",
       "      <td>...</td>\n",
       "      <td>...</td>\n",
       "      <td>...</td>\n",
       "      <td>...</td>\n",
       "    </tr>\n",
       "    <tr>\n",
       "      <th>124</th>\n",
       "      <td>minty</td>\n",
       "      <td>[\"flour\",\"mint extract\",\"sugar\",\"butter\"]</td>\n",
       "      <td>204</td>\n",
       "      <td>3.964</td>\n",
       "      <td>0.84</td>\n",
       "    </tr>\n",
       "    <tr>\n",
       "      <th>125</th>\n",
       "      <td>nevadito</td>\n",
       "      <td>[\"flour\",\"chocolate chips\",\"milk\",\"vanilla ext...</td>\n",
       "      <td>211</td>\n",
       "      <td>3.915</td>\n",
       "      <td>1.61</td>\n",
       "    </tr>\n",
       "    <tr>\n",
       "      <th>126</th>\n",
       "      <td>red</td>\n",
       "      <td>[\"flour\",\"cocoa powder\",\"butter\",\"red food col...</td>\n",
       "      <td>197</td>\n",
       "      <td>3.906</td>\n",
       "      <td>1.33</td>\n",
       "    </tr>\n",
       "    <tr>\n",
       "      <th>127</th>\n",
       "      <td>bbb</td>\n",
       "      <td>[\"flour\",\"blueberries\",\"sugar\",\"butter\"]</td>\n",
       "      <td>199</td>\n",
       "      <td>4.281</td>\n",
       "      <td>1.36</td>\n",
       "    </tr>\n",
       "    <tr>\n",
       "      <th>128</th>\n",
       "      <td>chocolate</td>\n",
       "      <td>[\"flour\",\"chocolate chips\",\"sugar\",\"butter\"]</td>\n",
       "      <td>209</td>\n",
       "      <td>3.182</td>\n",
       "      <td>1.53</td>\n",
       "    </tr>\n",
       "  </tbody>\n",
       "</table>\n",
       "<p>114 rows × 5 columns</p>\n",
       "</div>"
      ],
      "text/plain": [
       "        cookie                                        ingredients  calories  \\\n",
       "0       laddoo             [\"flour\",\"lemon juice\",\"sugar\",\"ghee\"]       170   \n",
       "1          red  [\"flour\",\"cocoa powder\",\"butter\",\"red food col...       198   \n",
       "2     nevadito  [\"flour\",\"chocolate chips\",\"milk\",\"vanilla ext...       224   \n",
       "3          red  [\"flour\",\"cocoa powder\",\"butter\",\"red food col...       198   \n",
       "4          bbb           [\"flour\",\"blueberries\",\"sugar\",\"butter\"]       191   \n",
       "..         ...                                                ...       ...   \n",
       "124      minty          [\"flour\",\"mint extract\",\"sugar\",\"butter\"]       204   \n",
       "125   nevadito  [\"flour\",\"chocolate chips\",\"milk\",\"vanilla ext...       211   \n",
       "126        red  [\"flour\",\"cocoa powder\",\"butter\",\"red food col...       197   \n",
       "127        bbb           [\"flour\",\"blueberries\",\"sugar\",\"butter\"]       199   \n",
       "128  chocolate       [\"flour\",\"chocolate chips\",\"sugar\",\"butter\"]       209   \n",
       "\n",
       "     radius  cost_to_make  \n",
       "0     3.102          0.67  \n",
       "1     3.780          1.07  \n",
       "2     4.069          1.04  \n",
       "3     3.780          1.07  \n",
       "4     4.148          1.39  \n",
       "..      ...           ...  \n",
       "124   3.964          0.84  \n",
       "125   3.915          1.61  \n",
       "126   3.906          1.33  \n",
       "127   4.281          1.36  \n",
       "128   3.182          1.53  \n",
       "\n",
       "[114 rows x 5 columns]"
      ]
     },
     "execution_count": 89,
     "metadata": {},
     "output_type": "execute_result"
    }
   ],
   "source": [
    "#TODO: drop the created column\n",
    "\n",
    "cookies.drop(['calories per radius'], axis = 1)"
   ]
  },
  {
   "attachments": {},
   "cell_type": "markdown",
   "metadata": {},
   "source": [
    "### Visualizing the data"
   ]
  },
  {
   "attachments": {},
   "cell_type": "markdown",
   "metadata": {},
   "source": [
    "We can also visualize the data. For example, we can visualize the data by plotting the radius of the cookies against the cost to make the cookies. We can do this by using the `plot()` function."
   ]
  },
  {
   "cell_type": "code",
   "execution_count": 90,
   "metadata": {},
   "outputs": [
    {
     "data": {
      "text/plain": [
       "<AxesSubplot:xlabel='radius'>"
      ]
     },
     "execution_count": 90,
     "metadata": {},
     "output_type": "execute_result"
    },
    {
     "data": {
      "image/png": "[encoded data removed]",
      "text/plain": [
       "<Figure size 432x288 with 1 Axes>"
      ]
     },
     "metadata": {
      "needs_background": "light"
     },
     "output_type": "display_data"
    }
   ],
   "source": [
    "#TODO: plot the radius (x) versus cost to make (y)\n",
    "import matplotlib\n",
    "\n",
    "cookies.plot('radius', 'cost_to_make')"
   ]
  },
  {
   "attachments": {},
   "cell_type": "markdown",
   "metadata": {},
   "source": [
    "We may even want to get more specific and visualize the shape of a distribution of the `laddoo lemon`'s radius by making a boxplot. We can also do this by using the `plot()` function."
   ]
  },
  {
   "cell_type": "code",
   "execution_count": 91,
   "metadata": {},
   "outputs": [
    {
     "data": {
      "text/plain": [
       "<AxesSubplot:>"
      ]
     },
     "execution_count": 91,
     "metadata": {},
     "output_type": "execute_result"
    },
    {
     "data": {
      "image/png": "[encoded data removed]",
      "text/plain": [
       "<Figure size 432x288 with 1 Axes>"
      ]
     },
     "metadata": {
      "needs_background": "light"
     },
     "output_type": "display_data"
    }
   ],
   "source": [
    "#TODO: add the described boxplot\n",
    "# remember that you changed the name from laddoo lemon to laddoo\n",
    "\n",
    "cookies.loc[cookies['cookie']=='laddoo'].boxplot(['radius'])"
   ]
  },
  {
   "attachments": {},
   "cell_type": "markdown",
   "metadata": {},
   "source": [
    "Alternatively, we can create a histogram to visualize the distribution of the `laddoo lemon`'s radius. We can also do this by using the `plot()` function."
   ]
  },
  {
   "cell_type": "code",
   "execution_count": 92,
   "metadata": {},
   "outputs": [
    {
     "data": {
      "text/plain": [
       "array([[<AxesSubplot:title={'center':'radius'}>]], dtype=object)"
      ]
     },
     "execution_count": 92,
     "metadata": {},
     "output_type": "execute_result"
    },
    {
     "data": {
      "image/png": "[encoded data removed]",
      "text/plain": [
       "<Figure size 432x288 with 1 Axes>"
      ]
     },
     "metadata": {
      "needs_background": "light"
     },
     "output_type": "display_data"
    }
   ],
   "source": [
    "#TODO: add the described histogram\n",
    "\n",
    "cookies.loc[cookies['cookie']=='laddoo'].hist(['radius'])"
   ]
  },
  {
   "attachments": {},
   "cell_type": "markdown",
   "metadata": {},
   "source": [
    "Things can get more complicated too. Maybe we want to analyze the behaviors of `bad berry bunny` and `laddoo lemon`'s radius using a boxplot. But this time, let's try it using the alternative `boxplot()` function. For practice, try doing it with `plot()` too!"
   ]
  },
  {
   "cell_type": "code",
   "execution_count": 102,
   "metadata": {},
   "outputs": [
    {
     "data": {
      "text/plain": [
       "<AxesSubplot:>"
      ]
     },
     "execution_count": 102,
     "metadata": {},
     "output_type": "execute_result"
    },
    {
     "data": {
      "image/png": "[encoded data removed]",
      "text/plain": [
       "<Figure size 432x288 with 1 Axes>"
      ]
     },
     "metadata": {
      "needs_background": "light"
     },
     "output_type": "display_data"
    }
   ],
   "source": [
    "#TODO: analyze the two cookie's radius in a boxplot\n",
    "\n",
    "cookies.loc[cookies['cookie']=='laddoo'].boxplot(column = ['radius'])\n",
    "cookies.loc[cookies['cookie']=='bbb'].boxplot(column = ['radius'])\n"
   ]
  },
  {
   "attachments": {},
   "cell_type": "markdown",
   "metadata": {},
   "source": [
    "### Practice Problems\n",
    "Now that you have learned some of Pandas' capabilities, let's try some practice problems! **This is the part that will be checked when you submit it!**"
   ]
  },
  {
   "attachments": {},
   "cell_type": "markdown",
   "metadata": {},
   "source": [
    "#### Problem 1\n",
    "How many cookies were made? (Hint: use the `shape` attribute)"
   ]
  },
  {
   "cell_type": "code",
   "execution_count": 105,
   "metadata": {},
   "outputs": [
    {
     "data": {
      "text/plain": [
       "114"
      ]
     },
     "execution_count": 105,
     "metadata": {},
     "output_type": "execute_result"
    }
   ],
   "source": [
    "#Add your code here\n",
    "\n",
    "cookies.shape[0]"
   ]
  },
  {
   "attachments": {},
   "cell_type": "markdown",
   "metadata": {},
   "source": [
    "#### Problem 2\n",
    "Add a column to the DataFrame that has the value `True` if the cookie has a radius greater than 4 cm, and `False` otherwise. (Hint: use the `apply()` function)"
   ]
  },
  {
   "cell_type": "code",
   "execution_count": 108,
   "metadata": {},
   "outputs": [
    {
     "name": "stdout",
     "output_type": "stream",
     "text": [
      "       cookie                                        ingredients  calories  \\\n",
      "0      laddoo             [\"flour\",\"lemon juice\",\"sugar\",\"ghee\"]       170   \n",
      "1         red  [\"flour\",\"cocoa powder\",\"butter\",\"red food col...       198   \n",
      "2    nevadito  [\"flour\",\"chocolate chips\",\"milk\",\"vanilla ext...       224   \n",
      "3         red  [\"flour\",\"cocoa powder\",\"butter\",\"red food col...       198   \n",
      "4         bbb           [\"flour\",\"blueberries\",\"sugar\",\"butter\"]       191   \n",
      "5      orange   [\"flour\",\"orange juice\",\"sugar\",\"vegetable oil\"]       162   \n",
      "6       minty          [\"flour\",\"mint extract\",\"sugar\",\"butter\"]       204   \n",
      "7   chocolate       [\"flour\",\"chocolate chips\",\"sugar\",\"butter\"]       243   \n",
      "9       minty          [\"flour\",\"mint extract\",\"sugar\",\"butter\"]       184   \n",
      "10   nevadito  [\"flour\",\"chocolate chips\",\"milk\",\"vanilla ext...       216   \n",
      "\n",
      "    radius  cost_to_make  calories per radius  bigger_than_4  \n",
      "0    3.102          0.67            54.803353          False  \n",
      "1    3.780          1.07            52.380952          False  \n",
      "2    4.069          1.04            55.050381           True  \n",
      "3    3.780          1.07            52.380952          False  \n",
      "4    4.148          1.39            46.046287           True  \n",
      "5    3.241          1.15            49.984573          False  \n",
      "6    3.964          0.84            51.463169          False  \n",
      "7    3.684          1.17            65.960912          False  \n",
      "9    3.743          0.74            49.158429          False  \n",
      "10   3.848          1.28            56.133056          False  \n"
     ]
    }
   ],
   "source": [
    "#Add your code here\n",
    "\n",
    "cookies['bigger_than_4'] = cookies.apply(lambda cookie: cookie['radius'] > 4, axis = 1)\n",
    "print(cookies.head(10))"
   ]
  },
  {
   "attachments": {},
   "cell_type": "markdown",
   "metadata": {},
   "source": [
    "#### Problem 3\n",
    "\n",
    "Group the data by the `cookie` column, and find the average radius of each cookie. (Hint: use the `groupby()` and `transform()` function). Add this column to the DataFrame."
   ]
  },
  {
   "cell_type": "code",
   "execution_count": 112,
   "metadata": {},
   "outputs": [
    {
     "name": "stdout",
     "output_type": "stream",
     "text": [
      "       cookie                                        ingredients  calories  \\\n",
      "0      laddoo             [\"flour\",\"lemon juice\",\"sugar\",\"ghee\"]       170   \n",
      "1         red  [\"flour\",\"cocoa powder\",\"butter\",\"red food col...       198   \n",
      "2    nevadito  [\"flour\",\"chocolate chips\",\"milk\",\"vanilla ext...       224   \n",
      "3         red  [\"flour\",\"cocoa powder\",\"butter\",\"red food col...       198   \n",
      "4         bbb           [\"flour\",\"blueberries\",\"sugar\",\"butter\"]       191   \n",
      "5      orange   [\"flour\",\"orange juice\",\"sugar\",\"vegetable oil\"]       162   \n",
      "6       minty          [\"flour\",\"mint extract\",\"sugar\",\"butter\"]       204   \n",
      "7   chocolate       [\"flour\",\"chocolate chips\",\"sugar\",\"butter\"]       243   \n",
      "9       minty          [\"flour\",\"mint extract\",\"sugar\",\"butter\"]       184   \n",
      "10   nevadito  [\"flour\",\"chocolate chips\",\"milk\",\"vanilla ext...       216   \n",
      "\n",
      "    radius  cost_to_make  calories per radius  bigger_than_4  ave_radius  \n",
      "0    3.102          0.67            54.803353          False    3.849000  \n",
      "1    3.780          1.07            52.380952          False    4.057500  \n",
      "2    4.069          1.04            55.050381           True    3.959000  \n",
      "3    3.780          1.07            52.380952          False    4.057500  \n",
      "4    4.148          1.39            46.046287           True    3.914867  \n",
      "5    3.241          1.15            49.984573          False    3.464263  \n",
      "6    3.964          0.84            51.463169          False    3.755368  \n",
      "7    3.684          1.17            65.960912          False    3.995077  \n",
      "9    3.743          0.74            49.158429          False    3.755368  \n",
      "10   3.848          1.28            56.133056          False    3.959000  \n"
     ]
    }
   ],
   "source": [
    "#Add your code here\n",
    "\n",
    "cookies['ave_radius'] = cookies.groupby('cookie')['radius'].transform('mean')\n",
    "print(cookies.head(10))"
   ]
  },
  {
   "attachments": {},
   "cell_type": "markdown",
   "metadata": {},
   "source": [
    "#### Problem 4\n",
    "Create a new DataFrame that only contains the cookies that have the ingredient `\"chocolate chips\"`. (Hint: use the `str.contains()` function)"
   ]
  },
  {
   "cell_type": "code",
   "execution_count": 114,
   "metadata": {},
   "outputs": [
    {
     "name": "stdout",
     "output_type": "stream",
     "text": [
      "       cookie                                        ingredients  calories  \\\n",
      "2    nevadito  [\"flour\",\"chocolate chips\",\"milk\",\"vanilla ext...       224   \n",
      "7   chocolate       [\"flour\",\"chocolate chips\",\"sugar\",\"butter\"]       243   \n",
      "10   nevadito  [\"flour\",\"chocolate chips\",\"milk\",\"vanilla ext...       216   \n",
      "17  chocolate       [\"flour\",\"chocolate chips\",\"sugar\",\"butter\"]       209   \n",
      "19   nevadito  [\"flour\",\"chocolate chips\",\"milk\",\"vanilla ext...       236   \n",
      "\n",
      "    radius  cost_to_make  calories per radius  bigger_than_4  ave_radius  \n",
      "2    4.069          1.04            55.050381           True    3.959000  \n",
      "7    3.684          1.17            65.960912          False    3.995077  \n",
      "10   3.848          1.28            56.133056          False    3.959000  \n",
      "17   3.182          1.53            65.681961          False    3.995077  \n",
      "19   4.043          1.29            58.372496           True    3.959000  \n"
     ]
    }
   ],
   "source": [
    "chocolate_chip = cookies[cookies['ingredients'].str.contains(\"chocolate chips\")].copy()\n",
    "print(chocolate_chip.head())"
   ]
  },
  {
   "attachments": {},
   "cell_type": "markdown",
   "metadata": {},
   "source": [
    "#### Problem 5\n",
    "\n",
    "Create a boxplot of `cost_to_make` for all cookies except `chocolate` using the `boxplot()` function."
   ]
  },
  {
   "cell_type": "code",
   "execution_count": 133,
   "metadata": {},
   "outputs": [],
   "source": [
    "no_chocolate = cookies.drop(['chocolate'], axis = 0, inplace = True)\n",
    "no_chocolate.boxplot(column = 'cost_to_make')"
   ]
  },
  {
   "attachments": {},
   "cell_type": "markdown",
   "metadata": {},
   "source": [
    "#### Problem 6\n",
    "\n",
    "Create a histogram of the `bad berry bunny`'s calories using the `plot()` function."
   ]
  },
  {
   "cell_type": "code",
   "execution_count": 124,
   "metadata": {},
   "outputs": [
    {
     "data": {
      "text/plain": [
       "array([[<AxesSubplot:title={'center':'calories'}>]], dtype=object)"
      ]
     },
     "execution_count": 124,
     "metadata": {},
     "output_type": "execute_result"
    },
    {
     "data": {
      "image/png": "[encoded data removed]",
      "text/plain": [
       "<Figure size 432x288 with 1 Axes>"
      ]
     },
     "metadata": {
      "needs_background": "light"
     },
     "output_type": "display_data"
    }
   ],
   "source": [
    "cookies.loc[cookies['cookie']=='bbb'].hist(['calories'])"
   ]
  },
  {
   "cell_type": "markdown",
   "metadata": {},
   "source": [
    "#### Problem 7\n",
    "\n",
    "Calculate the average calories per cookie type and display the result in a bar chart."
   ]
  },
  {
   "cell_type": "code",
   "execution_count": 128,
   "metadata": {},
   "outputs": [
    {
     "data": {
      "text/plain": [
       "<AxesSubplot:xlabel='cookie'>"
      ]
     },
     "execution_count": 128,
     "metadata": {},
     "output_type": "execute_result"
    },
    {
     "data": {
      "image/png": "[encoded data removed]",
      "text/plain": [
       "<Figure size 432x288 with 1 Axes>"
      ]
     },
     "metadata": {
      "needs_background": "light"
     },
     "output_type": "display_data"
    }
   ],
   "source": [
    "cookies.groupby('cookie')['calories'].mean().plot.bar()"
   ]
  },
  {
   "cell_type": "markdown",
   "metadata": {},
   "source": [
    "#### Problem 8\n",
    "\n",
    "Find the top 3 most expensive cookies in terms of cost_to_make"
   ]
  },
  {
   "cell_type": "code",
   "execution_count": 127,
   "metadata": {},
   "outputs": [
    {
     "data": {
      "text/html": [
       "<div>\n",
       "<style scoped>\n",
       "    .dataframe tbody tr th:only-of-type {\n",
       "        vertical-align: middle;\n",
       "    }\n",
       "\n",
       "    .dataframe tbody tr th {\n",
       "        vertical-align: top;\n",
       "    }\n",
       "\n",
       "    .dataframe thead th {\n",
       "        text-align: right;\n",
       "    }\n",
       "</style>\n",
       "<table border=\"1\" class=\"dataframe\">\n",
       "  <thead>\n",
       "    <tr style=\"text-align: right;\">\n",
       "      <th></th>\n",
       "      <th>cookie</th>\n",
       "      <th>ingredients</th>\n",
       "      <th>calories</th>\n",
       "      <th>radius</th>\n",
       "      <th>cost_to_make</th>\n",
       "      <th>calories per radius</th>\n",
       "      <th>bigger_than_4</th>\n",
       "      <th>ave_radius</th>\n",
       "    </tr>\n",
       "  </thead>\n",
       "  <tbody>\n",
       "    <tr>\n",
       "      <th>42</th>\n",
       "      <td>laddoo</td>\n",
       "      <td>[\"flour\",\"lemon juice\",\"sugar\",\"ghee\"]</td>\n",
       "      <td>176</td>\n",
       "      <td>4.110</td>\n",
       "      <td>2.27</td>\n",
       "      <td>42.822384</td>\n",
       "      <td>True</td>\n",
       "      <td>3.849000</td>\n",
       "    </tr>\n",
       "    <tr>\n",
       "      <th>50</th>\n",
       "      <td>nevadito</td>\n",
       "      <td>[\"flour\",\"chocolate chips\",\"milk\",\"vanilla ext...</td>\n",
       "      <td>220</td>\n",
       "      <td>3.855</td>\n",
       "      <td>2.21</td>\n",
       "      <td>57.068742</td>\n",
       "      <td>False</td>\n",
       "      <td>3.959000</td>\n",
       "    </tr>\n",
       "    <tr>\n",
       "      <th>13</th>\n",
       "      <td>orange</td>\n",
       "      <td>[\"flour\",\"orange juice\",\"sugar\",\"vegetable oil\"]</td>\n",
       "      <td>159</td>\n",
       "      <td>3.429</td>\n",
       "      <td>2.09</td>\n",
       "      <td>46.369204</td>\n",
       "      <td>False</td>\n",
       "      <td>3.464263</td>\n",
       "    </tr>\n",
       "  </tbody>\n",
       "</table>\n",
       "</div>"
      ],
      "text/plain": [
       "      cookie                                        ingredients  calories  \\\n",
       "42    laddoo             [\"flour\",\"lemon juice\",\"sugar\",\"ghee\"]       176   \n",
       "50  nevadito  [\"flour\",\"chocolate chips\",\"milk\",\"vanilla ext...       220   \n",
       "13    orange   [\"flour\",\"orange juice\",\"sugar\",\"vegetable oil\"]       159   \n",
       "\n",
       "    radius  cost_to_make  calories per radius  bigger_than_4  ave_radius  \n",
       "42   4.110          2.27            42.822384           True    3.849000  \n",
       "50   3.855          2.21            57.068742          False    3.959000  \n",
       "13   3.429          2.09            46.369204          False    3.464263  "
      ]
     },
     "execution_count": 127,
     "metadata": {},
     "output_type": "execute_result"
    }
   ],
   "source": [
    "cookies.nlargest(3, 'cost_to_make')"
   ]
  }
 ],
 "metadata": {
  "kernelspec": {
   "display_name": "Python 3.8.8 ('base')",
   "language": "python",
   "name": "python3"
  },
  "language_info": {
   "codemirror_mode": {
    "name": "ipython",
    "version": 3
   },
   "file_extension": ".py",
   "mimetype": "text/x-python",
   "name": "python",
   "nbconvert_exporter": "python",
   "pygments_lexer": "ipython3",
   "version": "3.8.8"
  },
  "orig_nbformat": 4,
  "vscode": {
   "interpreter": {
    "hash": "2d8e6747c059d3c9f288c16afa3cd24a7297ed9444df29f42f9a7db6fb5d3cca"
   }
  }
 },
 "nbformat": 4,
 "nbformat_minor": 2
}
